{
  "nbformat": 4,
  "nbformat_minor": 0,
  "metadata": {
    "colab": {
      "provenance": [],
      "authorship_tag": "ABX9TyP7g4nGVn9W50ByPgiKE0AW",
      "include_colab_link": true
    },
    "kernelspec": {
      "name": "python3",
      "display_name": "Python 3"
    },
    "language_info": {
      "name": "python"
    }
  },
  "cells": [
    {
      "cell_type": "markdown",
      "metadata": {
        "id": "view-in-github",
        "colab_type": "text"
      },
      "source": [
        "<a href=\"https://colab.research.google.com/github/pramanand-coder/Python-programming/blob/main/GCD_HCF_using_python.ipynb\" target=\"_parent\"><img src=\"https://colab.research.google.com/assets/colab-badge.svg\" alt=\"Open In Colab\"/></a>"
      ]
    },
    {
      "cell_type": "code",
      "execution_count": 1,
      "metadata": {
        "id": "pMTZv5fFCtDK"
      },
      "outputs": [],
      "source": [
        "class Calculate:\n",
        "  def GCD(self,x,y):\n",
        "    while (x>0 and y>0):\n",
        "      if x>y:\n",
        "        x=x%y\n",
        "      else:\n",
        "        y=y%x\n",
        "    if x==0:\n",
        "      return y\n",
        "    else:\n",
        "      return x"
      ]
    },
    {
      "cell_type": "code",
      "source": [
        "obj=Calculate()\n",
        "a=int(input(\"Enter the first number:\"))\n",
        "b=int(input(\"Enter the second number:\"))\n",
        "c=obj.GCD(a,b)\n",
        "print(\"GCD of \",a,\"and \",b,\"= \",c)"
      ],
      "metadata": {
        "colab": {
          "base_uri": "https://localhost:8080/"
        },
        "id": "mPF5KfzXDypL",
        "outputId": "a83dcd52-e4f4-464a-9274-e1bb14ed8a4b"
      },
      "execution_count": 3,
      "outputs": [
        {
          "output_type": "stream",
          "name": "stdout",
          "text": [
            "Enter the first number:17\n",
            "Enter the second number:19\n",
            "GCD of  17 and  19 =  1\n"
          ]
        }
      ]
    },
    {
      "cell_type": "code",
      "source": [],
      "metadata": {
        "id": "a31IEQvnEPo7"
      },
      "execution_count": null,
      "outputs": []
    }
  ]
}