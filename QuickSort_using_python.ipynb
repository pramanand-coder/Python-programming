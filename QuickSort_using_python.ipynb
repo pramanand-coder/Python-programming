{
  "nbformat": 4,
  "nbformat_minor": 0,
  "metadata": {
    "colab": {
      "provenance": [],
      "authorship_tag": "ABX9TyNn7aCrzw4E3iwKAzLMP99r",
      "include_colab_link": true
    },
    "kernelspec": {
      "name": "python3",
      "display_name": "Python 3"
    },
    "language_info": {
      "name": "python"
    }
  },
  "cells": [
    {
      "cell_type": "markdown",
      "metadata": {
        "id": "view-in-github",
        "colab_type": "text"
      },
      "source": [
        "<a href=\"https://colab.research.google.com/github/pramanand-coder/Python-programming/blob/main/QuickSort_using_python.ipynb\" target=\"_parent\"><img src=\"https://colab.research.google.com/assets/colab-badge.svg\" alt=\"Open In Colab\"/></a>"
      ]
    },
    {
      "cell_type": "markdown",
      "source": [
        "**QUICKSORT PROGRAM**\n",
        "\n",
        "Time Complexity=O(NlogN)\n",
        "\n",
        "Space complexity=O(1)"
      ],
      "metadata": {
        "id": "ax75e-zDFJlR"
      }
    },
    {
      "cell_type": "code",
      "execution_count": 1,
      "metadata": {
        "id": "u2mOqVsw7SsV"
      },
      "outputs": [],
      "source": [
        "class Sort:\n",
        "  def swap(self,arr,a,b):\n",
        "    temp=arr[a]\n",
        "    arr[a]=arr[b]\n",
        "    arr[b]=temp\n",
        "  def QuickSort(self,arr,low,high):\n",
        "    if(low<high):\n",
        "      part=self.pivotFun(arr,low,high)\n",
        "      self.QuickSort(arr,low,part-1)\n",
        "      self.QuickSort(arr,part+1,high)\n",
        "  def pivotFun(self,arr,low,high):\n",
        "    pivot=arr[low]\n",
        "    i=low\n",
        "    j=high\n",
        "    while(i<j):\n",
        "      while(i<=high and arr[i]<=pivot):\n",
        "        i+=1\n",
        "      while(j>=low and arr[j]>pivot):\n",
        "        j-=1\n",
        "      if(i<j):\n",
        "        self.swap(arr,i,j)\n",
        "    self.swap(arr,low,j)\n",
        "    return j"
      ]
    },
    {
      "cell_type": "code",
      "source": [
        "obj=Sort()\n",
        "arr=[5,3,6,7,1]\n",
        "print(\"Before sorting array are:\",arr)\n",
        "obj.QuickSort(arr,0,len(arr)-1)\n",
        "print(\"After sorting array are: \",arr)"
      ],
      "metadata": {
        "colab": {
          "base_uri": "https://localhost:8080/"
        },
        "id": "qcFG8zfo9XnY",
        "outputId": "87db97b9-def4-4da5-ae0f-5a90f04ee252"
      },
      "execution_count": 2,
      "outputs": [
        {
          "output_type": "stream",
          "name": "stdout",
          "text": [
            "Before sorting array are: [5, 3, 6, 7, 1]\n",
            "After sorting array are:  [1, 3, 5, 6, 7]\n"
          ]
        }
      ]
    },
    {
      "cell_type": "markdown",
      "source": [
        "**Another Way**"
      ],
      "metadata": {
        "id": "toySrXcTFex1"
      }
    },
    {
      "cell_type": "code",
      "source": [
        "class Sort:\n",
        "  def swap(self,arr,a,b):\n",
        "    temp=arr[a]\n",
        "    arr[a]=arr[b]\n",
        "    arr[b]=temp\n",
        "  def QuickSort(self,arr,low,high):\n",
        "    if(low<high):\n",
        "      part=self.pivotFun(arr,low,high)\n",
        "      self.QuickSort(arr,low,part-1)\n",
        "      self.QuickSort(arr,part+1,high)\n",
        "  def pivotFun(self,arr,low,high):\n",
        "    pivot=arr[low]\n",
        "    i=low\n",
        "    j=high\n",
        "    while(i<=j):\n",
        "      if(arr[i]<=pivot):\n",
        "        i+=1\n",
        "      elif(arr[j]>pivot):\n",
        "        j-=1\n",
        "      else:\n",
        "        arr[i],arr[j]=arr[j],arr[i]\n",
        "        i+=1\n",
        "        j-=1\n",
        "    arr[low],arr[j]=arr[j],arr[low]\n",
        "    return j"
      ],
      "metadata": {
        "id": "bmy-uFr-9sqa"
      },
      "execution_count": 3,
      "outputs": []
    },
    {
      "cell_type": "code",
      "source": [
        "obj=Sort()\n",
        "arr=[56,43,2,26,78,99,65,43,22,12,4,67,98,45,12]\n",
        "print(\"Before sorting array are:\",arr)\n",
        "obj.QuickSort(arr,0,len(arr)-1)\n",
        "print(\"After sorting array are: \",arr)"
      ],
      "metadata": {
        "colab": {
          "base_uri": "https://localhost:8080/"
        },
        "id": "5nP0Qne1-dLx",
        "outputId": "5694cd29-30a6-4a60-a74b-b4f73184c5ad"
      },
      "execution_count": 4,
      "outputs": [
        {
          "output_type": "stream",
          "name": "stdout",
          "text": [
            "Before sorting array are: [56, 43, 2, 26, 78, 99, 65, 43, 22, 12, 4, 67, 98, 45, 12]\n",
            "After sorting array are:  [2, 4, 12, 12, 22, 26, 43, 43, 45, 56, 65, 67, 78, 98, 99]\n"
          ]
        }
      ]
    }
  ]
}