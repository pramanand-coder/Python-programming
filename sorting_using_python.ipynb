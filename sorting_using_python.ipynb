{
  "nbformat": 4,
  "nbformat_minor": 0,
  "metadata": {
    "colab": {
      "provenance": [],
      "authorship_tag": "ABX9TyMnnvlnhivEz9oex8eqW8MA",
      "include_colab_link": true
    },
    "kernelspec": {
      "name": "python3",
      "display_name": "Python 3"
    },
    "language_info": {
      "name": "python"
    }
  },
  "cells": [
    {
      "cell_type": "markdown",
      "metadata": {
        "id": "view-in-github",
        "colab_type": "text"
      },
      "source": [
        "<a href=\"https://colab.research.google.com/github/pramanand-coder/Python-programming/blob/main/sorting_using_python.ipynb\" target=\"_parent\"><img src=\"https://colab.research.google.com/assets/colab-badge.svg\" alt=\"Open In Colab\"/></a>"
      ]
    },
    {
      "cell_type": "markdown",
      "source": [
        "**1.Selection Sort**    \n",
        "**Average Time Complexity=O(N**2)**\n"
      ],
      "metadata": {
        "id": "LU5TFxvH-8GA"
      }
    },
    {
      "cell_type": "code",
      "execution_count": null,
      "metadata": {
        "id": "09_DXc1a-1D3"
      },
      "outputs": [],
      "source": [
        "class Sort:\n",
        "  def selectionSort(self,arr):\n",
        "    n=len(arr)\n",
        "    for i in range(n-1):\n",
        "      mini=i\n",
        "      for j in range(i+1,n):\n",
        "        if(arr[j]<arr[mini]):\n",
        "          mini=j\n",
        "      temp=arr[i]\n",
        "      arr[i]=arr[mini]\n",
        "      arr[mini]=temp\n",
        "    return arr\n"
      ]
    },
    {
      "cell_type": "code",
      "source": [
        "obj=Sort()\n",
        "a=obj.selectionSort([13,12,7,44,23,21,78,65,34])\n",
        "print(a)"
      ],
      "metadata": {
        "colab": {
          "base_uri": "https://localhost:8080/"
        },
        "id": "JPqsXh-0AISO",
        "outputId": "4e22149b-d3e3-4004-aa44-44c1202ee544"
      },
      "execution_count": null,
      "outputs": [
        {
          "output_type": "stream",
          "name": "stdout",
          "text": [
            "[7, 12, 13, 21, 23, 34, 44, 65, 78]\n"
          ]
        }
      ]
    },
    {
      "cell_type": "markdown",
      "source": [
        "**2.Bubble Sort**\n",
        "\n",
        "** Average Case Time Complexity=O(N Square 2)**\n",
        "\n",
        "** Best Case Time Complexity=O(N) **  -> when array is in sorted in ascending order\n"
      ],
      "metadata": {
        "id": "Gf8hZkvdA_33"
      }
    },
    {
      "cell_type": "code",
      "source": [
        "class Sort2:\n",
        "  def bubbleSort(self,arr):\n",
        "    n=len(arr)\n",
        "    for i in range(n-1,0,-1):\n",
        "      didswap=0\n",
        "      for j in range(i-1):\n",
        "        if(arr[j+1]<arr[j]):\n",
        "          temp=arr[j+1]\n",
        "          arr[j+1]=arr[j]\n",
        "          arr[j]=temp\n",
        "          didswap=1\n",
        "      if(didswap==0):\n",
        "        break\n",
        "    return arr"
      ],
      "metadata": {
        "id": "qt7sdLQgAW_b"
      },
      "execution_count": null,
      "outputs": []
    },
    {
      "cell_type": "code",
      "source": [
        "obj=Sort2()\n",
        "a=obj.bubbleSort([13,12,7,44,23,21,78,65,34])\n",
        "print(a)"
      ],
      "metadata": {
        "colab": {
          "base_uri": "https://localhost:8080/"
        },
        "id": "UTZDzOovDSS8",
        "outputId": "fcf7c6de-d1d7-45ec-f047-de78a2f73179"
      },
      "execution_count": null,
      "outputs": [
        {
          "output_type": "stream",
          "name": "stdout",
          "text": [
            "[7, 12, 13, 21, 23, 44, 65, 78, 34]\n"
          ]
        }
      ]
    },
    {
      "cell_type": "markdown",
      "source": [
        "**3.InsertionSort**\n",
        "\n",
        "**Average case time complexity=O(N square 2)**\n",
        "\n",
        "**Best case time complexity=O(N)**"
      ],
      "metadata": {
        "id": "OlZZ0cp7DovW"
      }
    },
    {
      "cell_type": "code",
      "source": [
        "class Sort3:\n",
        "  def insertionSort(self,arr):\n",
        "    n=len(arr)\n",
        "    for i in range(n):\n",
        "      j=i\n",
        "      while(j>0 and arr[j-1]>arr[j]):\n",
        "        temp=arr[j-1]\n",
        "        arr[j-1]=arr[j]\n",
        "        arr[j]=temp\n",
        "        j=j-1\n",
        "    return arr"
      ],
      "metadata": {
        "id": "46XbuRI9Dn4n"
      },
      "execution_count": 18,
      "outputs": []
    },
    {
      "cell_type": "code",
      "source": [
        "obj=Sort3()\n",
        "a=obj.insertionSort([13,12,7,44,23,21,78,65,34])\n",
        "print(a)"
      ],
      "metadata": {
        "colab": {
          "base_uri": "https://localhost:8080/"
        },
        "id": "xfy-D_iBE3_z",
        "outputId": "f676ef5b-397b-49dc-9ed8-9433c00501be"
      },
      "execution_count": 19,
      "outputs": [
        {
          "output_type": "stream",
          "name": "stdout",
          "text": [
            "[7, 12, 13, 21, 23, 34, 44, 65, 78]\n"
          ]
        }
      ]
    }
  ]
}