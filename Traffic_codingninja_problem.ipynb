{
  "nbformat": 4,
  "nbformat_minor": 0,
  "metadata": {
    "colab": {
      "provenance": [],
      "authorship_tag": "ABX9TyNJSLftBPm5Qxe9UayMP36Q",
      "include_colab_link": true
    },
    "kernelspec": {
      "name": "python3",
      "display_name": "Python 3"
    },
    "language_info": {
      "name": "python"
    }
  },
  "cells": [
    {
      "cell_type": "markdown",
      "metadata": {
        "id": "view-in-github",
        "colab_type": "text"
      },
      "source": [
        "<a href=\"https://colab.research.google.com/github/pramanand-coder/Python-programming/blob/main/Traffic_codingninja_problem.ipynb\" target=\"_parent\"><img src=\"https://colab.research.google.com/assets/colab-badge.svg\" alt=\"Open In Colab\"/></a>"
      ]
    },
    {
      "cell_type": "markdown",
      "source": [
        "**Traffic**"
      ],
      "metadata": {
        "id": "ISFd5bNigbxX"
      }
    },
    {
      "cell_type": "code",
      "execution_count": 1,
      "metadata": {
        "id": "ofcbleIpgOBe"
      },
      "outputs": [],
      "source": [
        "def traffic(n,m,vehicle):\n",
        "    # Write your code here.\n",
        "    max_length=left=right=flipped=0\n",
        "    while(right<n):\n",
        "        if(vehicle[right]==0):\n",
        "            flipped+=1\n",
        "        while flipped>m:\n",
        "            if(vehicle[left]==0):\n",
        "                flipped-=1\n",
        "            left+=1\n",
        "        max_length=max(max_length,right-left+1)\n",
        "        right+=1\n",
        "    return max_length\n"
      ]
    },
    {
      "cell_type": "code",
      "source": [
        "N=3\n",
        "M=1\n",
        "vehicle=[0,1,1]\n",
        "a=traffic(N,M,vehicle)\n",
        "print(a)"
      ],
      "metadata": {
        "colab": {
          "base_uri": "https://localhost:8080/"
        },
        "id": "-0aWi6icgm0h",
        "outputId": "92c96787-824d-4a8d-a3d6-93d28362ef85"
      },
      "execution_count": 2,
      "outputs": [
        {
          "output_type": "stream",
          "name": "stdout",
          "text": [
            "3\n"
          ]
        }
      ]
    },
    {
      "cell_type": "code",
      "source": [
        "N=6\n",
        "M=3\n",
        "vehicle=[0,1,0,0,1,0]\n",
        "a=traffic(N,M,vehicle)\n",
        "print(a)"
      ],
      "metadata": {
        "colab": {
          "base_uri": "https://localhost:8080/"
        },
        "id": "5LoCPJ0gg1Xh",
        "outputId": "83551219-2831-457a-95ed-dd25901c75a6"
      },
      "execution_count": 3,
      "outputs": [
        {
          "output_type": "stream",
          "name": "stdout",
          "text": [
            "5\n"
          ]
        }
      ]
    }
  ]
}