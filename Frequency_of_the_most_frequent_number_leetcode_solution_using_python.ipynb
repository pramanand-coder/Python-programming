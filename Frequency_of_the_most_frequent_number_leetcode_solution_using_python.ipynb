{
  "nbformat": 4,
  "nbformat_minor": 0,
  "metadata": {
    "colab": {
      "provenance": [],
      "authorship_tag": "ABX9TyOPaGYm5C+/z6YKSjA1nrUf",
      "include_colab_link": true
    },
    "kernelspec": {
      "name": "python3",
      "display_name": "Python 3"
    },
    "language_info": {
      "name": "python"
    }
  },
  "cells": [
    {
      "cell_type": "markdown",
      "metadata": {
        "id": "view-in-github",
        "colab_type": "text"
      },
      "source": [
        "<a href=\"https://colab.research.google.com/github/pramanand-coder/Python-programming/blob/main/Frequency_of_the_most_frequent_number_leetcode_solution_using_python.ipynb\" target=\"_parent\"><img src=\"https://colab.research.google.com/assets/colab-badge.svg\" alt=\"Open In Colab\"/></a>"
      ]
    },
    {
      "cell_type": "markdown",
      "source": [
        "**python code**"
      ],
      "metadata": {
        "id": "byYYGigH-Kkc"
      }
    },
    {
      "cell_type": "code",
      "execution_count": 8,
      "metadata": {
        "id": "smnTDz4R6nUl"
      },
      "outputs": [],
      "source": [
        "class Solution:\n",
        "  def mostFrequent(self,nums,k):\n",
        "    nums.sort()\n",
        "    l,r=0,0\n",
        "    res,total=0,0\n",
        "    while r<len(nums):\n",
        "      total+=nums[r]\n",
        "      while(nums[r]*(r-l+1)>(total+k)):\n",
        "        total=total-nums[l]\n",
        "        l+=1\n",
        "      res=max(res,r-l+1)\n",
        "      r+=1\n",
        "    return res"
      ]
    },
    {
      "cell_type": "markdown",
      "source": [
        "**Example1**"
      ],
      "metadata": {
        "id": "8j-Om4Vv9zYP"
      }
    },
    {
      "cell_type": "code",
      "source": [
        "obj=Solution()\n",
        "a=obj.mostFrequent([2,3,5],5)\n",
        "print(\"frequency of the most frequent element=\",a)"
      ],
      "metadata": {
        "colab": {
          "base_uri": "https://localhost:8080/"
        },
        "id": "5w81A4CB7w_B",
        "outputId": "8b471aca-a35b-4333-a47b-3d7c5c546c6b"
      },
      "execution_count": 9,
      "outputs": [
        {
          "output_type": "stream",
          "name": "stdout",
          "text": [
            "frequency of the most frequent element= 3\n"
          ]
        }
      ]
    },
    {
      "cell_type": "markdown",
      "source": [
        "Example2"
      ],
      "metadata": {
        "id": "Lmxn1iEA9_-A"
      }
    },
    {
      "cell_type": "code",
      "source": [
        "b=obj.mostFrequent([1,4,8,13],5)\n",
        "print(\"frequency of the most frequent element=\",b)"
      ],
      "metadata": {
        "colab": {
          "base_uri": "https://localhost:8080/"
        },
        "id": "8WeXKRGP88W4",
        "outputId": "f10c3e56-ab17-49cd-d550-eefec94cec99"
      },
      "execution_count": 10,
      "outputs": [
        {
          "output_type": "stream",
          "name": "stdout",
          "text": [
            "frequency of the most frequent element= 2\n"
          ]
        }
      ]
    },
    {
      "cell_type": "markdown",
      "source": [
        "Example3"
      ],
      "metadata": {
        "id": "VPOtpqiM-Ffl"
      }
    },
    {
      "cell_type": "code",
      "source": [
        "c=obj.mostFrequent([3,9,6],2)\n",
        "print(\"frequency of the most frequent element=\",c)"
      ],
      "metadata": {
        "colab": {
          "base_uri": "https://localhost:8080/"
        },
        "id": "n6YYPFdQ9P4X",
        "outputId": "06ac9a76-18db-4dfe-ccea-d8c4069d925e"
      },
      "execution_count": 11,
      "outputs": [
        {
          "output_type": "stream",
          "name": "stdout",
          "text": [
            "frequency of the most frequent element= 1\n"
          ]
        }
      ]
    }
  ]
}