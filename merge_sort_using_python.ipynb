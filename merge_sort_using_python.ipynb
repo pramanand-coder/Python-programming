{
  "nbformat": 4,
  "nbformat_minor": 0,
  "metadata": {
    "colab": {
      "provenance": [],
      "authorship_tag": "ABX9TyPUdXGhqocEQTyqpeWebObR",
      "include_colab_link": true
    },
    "kernelspec": {
      "name": "python3",
      "display_name": "Python 3"
    },
    "language_info": {
      "name": "python"
    }
  },
  "cells": [
    {
      "cell_type": "markdown",
      "metadata": {
        "id": "view-in-github",
        "colab_type": "text"
      },
      "source": [
        "<a href=\"https://colab.research.google.com/github/pramanand-coder/Python-programming/blob/main/merge_sort_using_python.ipynb\" target=\"_parent\"><img src=\"https://colab.research.google.com/assets/colab-badge.svg\" alt=\"Open In Colab\"/></a>"
      ]
    },
    {
      "cell_type": "markdown",
      "source": [
        "**Merge Sort**\n",
        "\n",
        "**Time complexity=O(Nlog base 2 n)**\n",
        "\n",
        "space complexity=O(N)"
      ],
      "metadata": {
        "id": "pt_w7VPI1XK6"
      }
    },
    {
      "cell_type": "code",
      "execution_count": 1,
      "metadata": {
        "id": "5vY4d5duxFQi"
      },
      "outputs": [],
      "source": [
        "class Sort:\n",
        "  def Merge(self,arr,low,mid,high):\n",
        "    temp=[]\n",
        "    left=low\n",
        "    right=mid+1\n",
        "    while(left<=mid and right<=high):\n",
        "      if(arr[left]<=arr[right]):\n",
        "        temp.append(arr[left])\n",
        "        left+=1\n",
        "      else:\n",
        "        temp.append(arr[right])\n",
        "        right+=1\n",
        "    while(left<=mid):\n",
        "      temp.append(arr[left])\n",
        "      left+=1\n",
        "    while(right<=high):\n",
        "      temp.append(arr[right])\n",
        "      right+=1\n",
        "    for i in range(low,high+1):\n",
        "      arr[i]=temp[i-low]\n",
        "\n",
        "  def MergeSort(self,arr,low,high):\n",
        "    if(low>=high):\n",
        "      return\n",
        "    mid=(low+high)//2\n",
        "    self.MergeSort(arr,low,mid)\n",
        "    self.MergeSort(arr,mid+1,high)\n",
        "    self.Merge(arr,low,mid,high)\n"
      ]
    },
    {
      "cell_type": "code",
      "source": [
        "obj=Sort()\n",
        "arr=[45,21,11,67,5,34,67,89]\n",
        "print(\"Before Sorting array are\\n\",arr)\n",
        "obj.MergeSort(arr,0,len(arr)-1)\n",
        "print(\"After Sorting array are\\n\",arr)"
      ],
      "metadata": {
        "colab": {
          "base_uri": "https://localhost:8080/"
        },
        "id": "zC5ZZeYmyzNA",
        "outputId": "9d550ecb-96be-44b1-80a4-bbd400be9dd5"
      },
      "execution_count": 2,
      "outputs": [
        {
          "output_type": "stream",
          "name": "stdout",
          "text": [
            "Before Sorting array are\n",
            " [45, 21, 11, 67, 5, 34, 67, 89]\n",
            "After Sorting array are\n",
            " [5, 11, 21, 34, 45, 67, 67, 89]\n"
          ]
        }
      ]
    },
    {
      "cell_type": "code",
      "source": [
        "arr=[67,32,5,67,12,56,78,90,76,44,21,34,5,6,34,21]\n",
        "print(\"Before Sorting array are\\n\",arr)\n",
        "obj.MergeSort(arr,0,len(arr)-1)\n",
        "print(\"After Sorting array are\\n\",arr)"
      ],
      "metadata": {
        "colab": {
          "base_uri": "https://localhost:8080/"
        },
        "id": "Gt7JK_NW3kXa",
        "outputId": "245e0264-7372-42a3-fa26-e67c93843aa4"
      },
      "execution_count": 3,
      "outputs": [
        {
          "output_type": "stream",
          "name": "stdout",
          "text": [
            "Before Sorting array are\n",
            " [67, 32, 5, 67, 12, 56, 78, 90, 76, 44, 21, 34, 5, 6, 34, 21]\n",
            "After Sorting array are\n",
            " [5, 5, 6, 12, 21, 21, 32, 34, 34, 44, 56, 67, 67, 76, 78, 90]\n"
          ]
        }
      ]
    }
  ]
}