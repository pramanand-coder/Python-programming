{
  "nbformat": 4,
  "nbformat_minor": 0,
  "metadata": {
    "colab": {
      "provenance": [],
      "authorship_tag": "ABX9TyNP0AaxZK0ij6wZarTh9B4R",
      "include_colab_link": true
    },
    "kernelspec": {
      "name": "python3",
      "display_name": "Python 3"
    },
    "language_info": {
      "name": "python"
    }
  },
  "cells": [
    {
      "cell_type": "markdown",
      "metadata": {
        "id": "view-in-github",
        "colab_type": "text"
      },
      "source": [
        "<a href=\"https://colab.research.google.com/github/pramanand-coder/Python-programming/blob/main/lettersUsing_.ipynb\" target=\"_parent\"><img src=\"https://colab.research.google.com/assets/colab-badge.svg\" alt=\"Open In Colab\"/></a>"
      ]
    },
    {
      "cell_type": "markdown",
      "source": [
        "1.write a program to print A using *"
      ],
      "metadata": {
        "id": "kP7cdlZhxz7Y"
      }
    },
    {
      "cell_type": "markdown",
      "source": [
        "To printing any character using * we have to always consider 7*5 matrix"
      ],
      "metadata": {
        "id": "pDj9zkqSyoMO"
      }
    },
    {
      "cell_type": "code",
      "execution_count": 1,
      "metadata": {
        "colab": {
          "base_uri": "https://localhost:8080/"
        },
        "id": "vsFA4WwqxhDk",
        "outputId": "7ca899c1-4cc3-446f-c027-155c8ab1847a"
      },
      "outputs": [
        {
          "output_type": "stream",
          "name": "stdout",
          "text": [
            "  * * *   \n",
            "*       * \n",
            "*       * \n",
            "* * * * * \n",
            "*       * \n",
            "*       * \n",
            "*       * \n"
          ]
        }
      ],
      "source": [
        "for r in range(7):\n",
        "  for col in range(5):\n",
        "    if r not in {0} and col in {0,4}:\n",
        "      print(\"*\",end=\" \")\n",
        "    elif r in {0,3} and col in {1,2,3}:\n",
        "      print(\"*\",end=\" \")\n",
        "    else:\n",
        "      print(\" \",end=\" \")\n",
        "  print()"
      ]
    },
    {
      "cell_type": "markdown",
      "source": [
        "To print S using *"
      ],
      "metadata": {
        "id": "m11NkrF0yy2X"
      }
    },
    {
      "cell_type": "code",
      "source": [
        "for r in range(7):\n",
        "  for col in range(5):\n",
        "    if r in {0,3,6} and col in {1,2,3}:\n",
        "      print(\"*\",end=\" \")\n",
        "    elif r in {1,5} and col in {0,4}:\n",
        "      print(\"*\",end=\" \")\n",
        "    elif r in {2} and col in {0}:\n",
        "      print(\"*\",end=\" \")\n",
        "    elif r in {4} and col in {4}:\n",
        "      print(\"*\",end=\" \")\n",
        "    else:\n",
        "      print(\" \",end=\" \")\n",
        "  print()\n"
      ],
      "metadata": {
        "colab": {
          "base_uri": "https://localhost:8080/"
        },
        "id": "HKUXQleAyhte",
        "outputId": "987c94d5-63f5-4249-cc46-780e20440174"
      },
      "execution_count": 3,
      "outputs": [
        {
          "output_type": "stream",
          "name": "stdout",
          "text": [
            "  * * *   \n",
            "*       * \n",
            "*         \n",
            "  * * *   \n",
            "        * \n",
            "*       * \n",
            "  * * *   \n"
          ]
        }
      ]
    },
    {
      "cell_type": "code",
      "source": [],
      "metadata": {
        "id": "zobVLjq4zw7K"
      },
      "execution_count": null,
      "outputs": []
    }
  ]
}