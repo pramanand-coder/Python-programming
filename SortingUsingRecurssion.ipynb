{
  "nbformat": 4,
  "nbformat_minor": 0,
  "metadata": {
    "colab": {
      "provenance": [],
      "authorship_tag": "ABX9TyOR1mnQEGVGr6uSQlUfBmqw",
      "include_colab_link": true
    },
    "kernelspec": {
      "name": "python3",
      "display_name": "Python 3"
    },
    "language_info": {
      "name": "python"
    }
  },
  "cells": [
    {
      "cell_type": "markdown",
      "metadata": {
        "id": "view-in-github",
        "colab_type": "text"
      },
      "source": [
        "<a href=\"https://colab.research.google.com/github/pramanand-coder/Python-programming/blob/main/SortingUsingRecurssion.ipynb\" target=\"_parent\"><img src=\"https://colab.research.google.com/assets/colab-badge.svg\" alt=\"Open In Colab\"/></a>"
      ]
    },
    {
      "cell_type": "markdown",
      "source": [
        "**BubbleSort Using Recurssion**"
      ],
      "metadata": {
        "id": "kYyodw-3aJMH"
      }
    },
    {
      "cell_type": "code",
      "execution_count": 3,
      "metadata": {
        "id": "E6TjizAVWQjV"
      },
      "outputs": [],
      "source": [
        "def BubbleSort(arr,n):\n",
        "  if n==1:\n",
        "    return\n",
        "  for i in range(n-1):\n",
        "    if(arr[i]>arr[i+1]):\n",
        "      temp=arr[i]\n",
        "      arr[i]=arr[i+1]\n",
        "      arr[i+1]=temp\n",
        "  BubbleSort(arr,n-1)\n",
        ""
      ]
    },
    {
      "cell_type": "code",
      "source": [
        "arr=[67,32,45,67,89,65,12,23,45]\n",
        "BubbleSort(arr,len(arr)-1)\n",
        "print(arr)"
      ],
      "metadata": {
        "colab": {
          "base_uri": "https://localhost:8080/"
        },
        "id": "pjWxM5YVXP6d",
        "outputId": "d4253211-637a-4f4c-ca7f-5434ba5664b4"
      },
      "execution_count": 4,
      "outputs": [
        {
          "output_type": "stream",
          "name": "stdout",
          "text": [
            "[12, 23, 32, 45, 65, 67, 67, 89, 45]\n"
          ]
        }
      ]
    },
    {
      "cell_type": "markdown",
      "source": [
        "**InsertionSort Using Recurssion**"
      ],
      "metadata": {
        "id": "8EXnarjDZ_7g"
      }
    },
    {
      "cell_type": "code",
      "source": [
        "def InsertionSort(arr,n):\n",
        "  if n==len(arr):\n",
        "    return\n",
        "  j=n\n",
        "  while(j>0 and arr[j-1]>arr[j]):\n",
        "    temp=arr[j-1]\n",
        "    arr[j-1]=arr[j]\n",
        "    arr[j]=temp\n",
        "    j-=1\n",
        "  InsertionSort(arr,n+1)\n"
      ],
      "metadata": {
        "id": "gRf8mLjdYsAh"
      },
      "execution_count": 8,
      "outputs": []
    },
    {
      "cell_type": "code",
      "source": [
        "arr=[98,45,67,11,23,68,90,54,34,22,11]\n",
        "InsertionSort(arr,0)\n",
        "print(arr)"
      ],
      "metadata": {
        "colab": {
          "base_uri": "https://localhost:8080/"
        },
        "id": "6AGmrnHVZgUF",
        "outputId": "6c95e8e8-80e8-471a-9edf-f2cfa15f24bb"
      },
      "execution_count": 9,
      "outputs": [
        {
          "output_type": "stream",
          "name": "stdout",
          "text": [
            "[11, 11, 22, 23, 34, 45, 54, 67, 68, 90, 98]\n"
          ]
        }
      ]
    }
  ]
}