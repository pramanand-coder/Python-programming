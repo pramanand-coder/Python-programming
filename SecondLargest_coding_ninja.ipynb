{
  "nbformat": 4,
  "nbformat_minor": 0,
  "metadata": {
    "colab": {
      "provenance": [],
      "authorship_tag": "ABX9TyOSewyvKW0/vk6+J84LTW1L",
      "include_colab_link": true
    },
    "kernelspec": {
      "name": "python3",
      "display_name": "Python 3"
    },
    "language_info": {
      "name": "python"
    }
  },
  "cells": [
    {
      "cell_type": "markdown",
      "metadata": {
        "id": "view-in-github",
        "colab_type": "text"
      },
      "source": [
        "<a href=\"https://colab.research.google.com/github/pramanand-coder/Python-programming/blob/main/SecondLargest_coding_ninja.ipynb\" target=\"_parent\"><img src=\"https://colab.research.google.com/assets/colab-badge.svg\" alt=\"Open In Colab\"/></a>"
      ]
    },
    {
      "cell_type": "code",
      "execution_count": 1,
      "metadata": {
        "id": "apEBOjAytkq6"
      },
      "outputs": [],
      "source": [
        "def secondLargest(a,n):\n",
        "    slargest=-1\n",
        "    largest=a[0]\n",
        "    for i in range(1,n):\n",
        "        if(a[i]>largest):\n",
        "            slargest=largest\n",
        "            largest=a[i]\n",
        "        elif(a[i]!=largest and slargest<a[i]):\n",
        "            slargest=a[i]\n",
        "    return slargest\n",
        "def secondSmallest(a,n):\n",
        "    ssmallest=(10**5)-1\n",
        "    smallest=a[0]\n",
        "    for i in range(1,n):\n",
        "        if(a[i]<smallest):\n",
        "            ssmallest=smallest\n",
        "            smallest=a[i]\n",
        "        elif(a[i]!=smallest and ssmallest>a[i]):\n",
        "            ssmallest=a[i]\n",
        "    return ssmallest\n",
        "\n",
        "def getSecondOrderElements(n: int,  a: [int]) -> [int]:\n",
        "    # Write your code here.\n",
        "    seclargest=secondLargest(a,n)\n",
        "    secsmallest=secondSmallest(a,n)\n",
        "    return [seclargest,secsmallest]"
      ]
    },
    {
      "cell_type": "code",
      "source": [
        "arr=[4,5,6,7,3]\n",
        "a=getSecondOrderElements(len(arr)-1,arr)\n",
        "print(a)"
      ],
      "metadata": {
        "colab": {
          "base_uri": "https://localhost:8080/"
        },
        "id": "wXTVFRIHuHYe",
        "outputId": "de10bb4d-eecb-4339-a34a-876225c00d4a"
      },
      "execution_count": 2,
      "outputs": [
        {
          "output_type": "stream",
          "name": "stdout",
          "text": [
            "[6, 5]\n"
          ]
        }
      ]
    }
  ]
}