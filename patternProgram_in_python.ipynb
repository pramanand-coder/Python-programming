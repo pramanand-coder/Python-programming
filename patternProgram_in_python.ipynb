{
  "nbformat": 4,
  "nbformat_minor": 0,
  "metadata": {
    "colab": {
      "provenance": [],
      "authorship_tag": "ABX9TyOg3XSoHifBsLV8VNP39tFj",
      "include_colab_link": true
    },
    "kernelspec": {
      "name": "python3",
      "display_name": "Python 3"
    },
    "language_info": {
      "name": "python"
    }
  },
  "cells": [
    {
      "cell_type": "markdown",
      "metadata": {
        "id": "view-in-github",
        "colab_type": "text"
      },
      "source": [
        "<a href=\"https://colab.research.google.com/github/pramanand-coder/Python-programming/blob/main/patternProgram_in_python.ipynb\" target=\"_parent\"><img src=\"https://colab.research.google.com/assets/colab-badge.svg\" alt=\"Open In Colab\"/></a>"
      ]
    },
    {
      "cell_type": "code",
      "execution_count": 1,
      "metadata": {
        "colab": {
          "base_uri": "https://localhost:8080/"
        },
        "id": "RayJqxfyUM7h",
        "outputId": "793ec522-58fb-4317-8476-8c8ada5150ed"
      },
      "outputs": [
        {
          "output_type": "stream",
          "name": "stdout",
          "text": [
            "Enter the number of row:5\n",
            "* \n",
            "* \n",
            "* \n",
            "* \n",
            "* \n"
          ]
        }
      ],
      "source": [
        "n=int(input(\"Enter the number of row:\"))\n",
        "for i in range(n):\n",
        "  print(\"* \")"
      ]
    },
    {
      "cell_type": "markdown",
      "source": [
        "To print in the rows we have to declare end() function inside the print function"
      ],
      "metadata": {
        "id": "UxNIHHpcUi5S"
      }
    },
    {
      "cell_type": "code",
      "source": [
        "for i in range(n):\n",
        "  print(\"* \",end=\" \")"
      ],
      "metadata": {
        "colab": {
          "base_uri": "https://localhost:8080/"
        },
        "id": "_t9MB7w8UbIm",
        "outputId": "52986e09-c1d6-403a-f537-6dff3387e723"
      },
      "execution_count": 2,
      "outputs": [
        {
          "output_type": "stream",
          "name": "stdout",
          "text": [
            "*  *  *  *  *  "
          ]
        }
      ]
    },
    {
      "cell_type": "code",
      "source": [
        "n=int(input(\"Enter the number of rows:\"))\n",
        "for row in range(n):\n",
        "  for col in range(n):\n",
        "    print(\"* \",end=\" \")"
      ],
      "metadata": {
        "colab": {
          "base_uri": "https://localhost:8080/"
        },
        "id": "u4lX-9lYU0XC",
        "outputId": "b56954f8-6095-46cb-8135-7c3e8de313ef"
      },
      "execution_count": 3,
      "outputs": [
        {
          "output_type": "stream",
          "name": "stdout",
          "text": [
            "Enter the number of rows:5\n",
            "*  *  *  *  *  *  *  *  *  *  *  *  *  *  *  *  *  *  *  *  *  *  *  *  *  "
          ]
        }
      ]
    },
    {
      "cell_type": "markdown",
      "source": [
        "for printing in the rows and column format we have to give print() statement after executing column loop."
      ],
      "metadata": {
        "id": "pdrc4tJ-VHRL"
      }
    },
    {
      "cell_type": "code",
      "source": [
        "for row in range(n):\n",
        "  for col in range(n):\n",
        "    print(\"* \",end=\" \")\n",
        "  print()"
      ],
      "metadata": {
        "colab": {
          "base_uri": "https://localhost:8080/"
        },
        "id": "aA89I4P2VEQC",
        "outputId": "9be44a4a-5467-40b8-f48c-64a7be43b7bf"
      },
      "execution_count": 4,
      "outputs": [
        {
          "output_type": "stream",
          "name": "stdout",
          "text": [
            "*  *  *  *  *  \n",
            "*  *  *  *  *  \n",
            "*  *  *  *  *  \n",
            "*  *  *  *  *  \n",
            "*  *  *  *  *  \n"
          ]
        }
      ]
    },
    {
      "cell_type": "markdown",
      "source": [
        "1.write a program to print right angle triangle\n"
      ],
      "metadata": {
        "id": "zMfdYd_rVj3l"
      }
    },
    {
      "cell_type": "code",
      "source": [
        "n=int(input(\"Enter the number of rows:\"))\n",
        "for i in range(n):\n",
        "  for j in range(i+1):\n",
        "    print(\"* \",end=\" \")\n",
        "  print()"
      ],
      "metadata": {
        "colab": {
          "base_uri": "https://localhost:8080/"
        },
        "id": "X0QokDcFVfDk",
        "outputId": "582f21de-0bc6-4468-81a7-4f7441dc781b"
      },
      "execution_count": 5,
      "outputs": [
        {
          "output_type": "stream",
          "name": "stdout",
          "text": [
            "Enter the number of rows:5\n",
            "*  \n",
            "*  *  \n",
            "*  *  *  \n",
            "*  *  *  *  \n",
            "*  *  *  *  *  \n"
          ]
        }
      ]
    },
    {
      "cell_type": "markdown",
      "source": [
        "2nd method"
      ],
      "metadata": {
        "id": "yz7YJbmeWPCJ"
      }
    },
    {
      "cell_type": "code",
      "source": [
        "for i in range(n):\n",
        "  print(\"* \"*(i+1))\n"
      ],
      "metadata": {
        "colab": {
          "base_uri": "https://localhost:8080/"
        },
        "id": "fZE1oVHHWJkd",
        "outputId": "7a4b8fde-8a88-435d-fb66-13f9a33e83d6"
      },
      "execution_count": 6,
      "outputs": [
        {
          "output_type": "stream",
          "name": "stdout",
          "text": [
            "* \n",
            "* * \n",
            "* * * \n",
            "* * * * \n",
            "* * * * * \n"
          ]
        }
      ]
    },
    {
      "cell_type": "markdown",
      "source": [
        "2.write a program to print the right angle triangle in reverse order"
      ],
      "metadata": {
        "id": "uySWjSXlWuZr"
      }
    },
    {
      "cell_type": "code",
      "source": [
        "n=int(input(\"Enter the number of rows:\"))\n",
        "for row in range(n):\n",
        "  for col in range(n,row,-1):\n",
        "    print(\"* \",end=\" \")\n",
        "  print()\n"
      ],
      "metadata": {
        "id": "uefGwWHBWpun",
        "outputId": "6557c1c8-bb1c-4d3c-e741-5efe368e7aba",
        "colab": {
          "base_uri": "https://localhost:8080/"
        }
      },
      "execution_count": 7,
      "outputs": [
        {
          "output_type": "stream",
          "name": "stdout",
          "text": [
            "Enter the number of rows:5\n",
            "*  *  *  *  *  \n",
            "*  *  *  *  \n",
            "*  *  *  \n",
            "*  *  \n",
            "*  \n"
          ]
        }
      ]
    },
    {
      "cell_type": "markdown",
      "source": [
        "2nd way"
      ],
      "metadata": {
        "id": "JQwCMKTkXPb3"
      }
    },
    {
      "cell_type": "code",
      "source": [
        "for row in range(n):\n",
        "  print(\"* \"*(n-row))"
      ],
      "metadata": {
        "id": "06s7Wx7vXMs5",
        "outputId": "1eb2f615-b499-4dee-f2bb-d1873a28e925",
        "colab": {
          "base_uri": "https://localhost:8080/"
        }
      },
      "execution_count": 9,
      "outputs": [
        {
          "output_type": "stream",
          "name": "stdout",
          "text": [
            "* * * * * \n",
            "* * * * \n",
            "* * * \n",
            "* * \n",
            "* \n"
          ]
        }
      ]
    },
    {
      "cell_type": "markdown",
      "source": [
        "3.write a program to print the star in pyramid:"
      ],
      "metadata": {
        "id": "qU2nbcBpXgES"
      }
    },
    {
      "cell_type": "code",
      "source": [
        "n=int(input(\"Enter the number of rows:\"))\n",
        "for row in range(n):\n",
        "  print(\" \"*(n-(row+1)),\"* \"*(row+1))"
      ],
      "metadata": {
        "id": "pihbiJtEXZjW",
        "outputId": "3233ab35-011f-4e27-a8e0-7210caa18513",
        "colab": {
          "base_uri": "https://localhost:8080/"
        }
      },
      "execution_count": 11,
      "outputs": [
        {
          "output_type": "stream",
          "name": "stdout",
          "text": [
            "Enter the number of rows:5\n",
            "     * \n",
            "    * * \n",
            "   * * * \n",
            "  * * * * \n",
            " * * * * * \n"
          ]
        }
      ]
    }
  ]
}