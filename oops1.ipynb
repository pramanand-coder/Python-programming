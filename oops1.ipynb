{
 "cells": [
  {
   "cell_type": "code",
   "execution_count": 1,
   "id": "ad0ac5d9",
   "metadata": {},
   "outputs": [
    {
     "name": "stdout",
     "output_type": "stream",
     "text": [
      "hello All\n"
     ]
    }
   ],
   "source": [
    "class Student:\n",
    "    print(\"hello All\")\n",
    "x=Student()"
   ]
  },
  {
   "cell_type": "code",
   "execution_count": 2,
   "id": "a9314427",
   "metadata": {},
   "outputs": [
    {
     "name": "stdout",
     "output_type": "stream",
     "text": [
      "<class '__main__.Student'>\n"
     ]
    }
   ],
   "source": [
    "print(type(x))"
   ]
  },
  {
   "cell_type": "code",
   "execution_count": 3,
   "id": "ca43dc6e",
   "metadata": {},
   "outputs": [
    {
     "name": "stdout",
     "output_type": "stream",
     "text": [
      "Hello Worrier\n"
     ]
    }
   ],
   "source": [
    "class Student:\n",
    "    def fun():\n",
    "        print(\"Hello Worrier\")\n",
    "Student.fun()"
   ]
  },
  {
   "cell_type": "code",
   "execution_count": 4,
   "id": "aa05fe76",
   "metadata": {},
   "outputs": [
    {
     "ename": "TypeError",
     "evalue": "Student.fun() takes 0 positional arguments but 1 was given",
     "output_type": "error",
     "traceback": [
      "\u001b[1;31m---------------------------------------------------------------------------\u001b[0m",
      "\u001b[1;31mTypeError\u001b[0m                                 Traceback (most recent call last)",
      "Input \u001b[1;32mIn [4]\u001b[0m, in \u001b[0;36m<cell line: 5>\u001b[1;34m()\u001b[0m\n\u001b[0;32m      3\u001b[0m         \u001b[38;5;28mprint\u001b[39m(\u001b[38;5;124m\"\u001b[39m\u001b[38;5;124mHello Worrier\u001b[39m\u001b[38;5;124m\"\u001b[39m)\n\u001b[0;32m      4\u001b[0m x\u001b[38;5;241m=\u001b[39mStudent()\n\u001b[1;32m----> 5\u001b[0m \u001b[43mx\u001b[49m\u001b[38;5;241;43m.\u001b[39;49m\u001b[43mfun\u001b[49m\u001b[43m(\u001b[49m\u001b[43m)\u001b[49m\n",
      "\u001b[1;31mTypeError\u001b[0m: Student.fun() takes 0 positional arguments but 1 was given"
     ]
    }
   ],
   "source": [
    "class Student:\n",
    "    def fun():\n",
    "        print(\"Hello Worrier\")\n",
    "x=Student()\n",
    "x.fun()"
   ]
  },
  {
   "cell_type": "code",
   "execution_count": 5,
   "id": "c0013d43",
   "metadata": {},
   "outputs": [
    {
     "name": "stdout",
     "output_type": "stream",
     "text": [
      "Hello Worrier\n"
     ]
    }
   ],
   "source": [
    "class Student:\n",
    "    def fun(self):\n",
    "        print(\"Hello Worrier\")\n",
    "x=Student()\n",
    "x.fun()"
   ]
  },
  {
   "cell_type": "code",
   "execution_count": 6,
   "id": "24d4baeb",
   "metadata": {},
   "outputs": [
    {
     "name": "stdout",
     "output_type": "stream",
     "text": [
      "Hello python\n"
     ]
    }
   ],
   "source": [
    "class Student:\n",
    "    def fun(self):\n",
    "        print(\"Hello python\")\n",
    "x=Student()\n",
    "x.fun()"
   ]
  },
  {
   "cell_type": "code",
   "execution_count": 7,
   "id": "ffe22ad3",
   "metadata": {},
   "outputs": [
    {
     "name": "stdout",
     "output_type": "stream",
     "text": [
      "10\n",
      "Hello Learners\n"
     ]
    }
   ],
   "source": [
    "class Student1:\n",
    "    year=10\n",
    "    def fun(self):\n",
    "        print(\"Hello Learners\")\n",
    "x=Student1()\n",
    "print(x.year)\n",
    "x.fun()"
   ]
  },
  {
   "cell_type": "code",
   "execution_count": 8,
   "id": "5b5c47c5",
   "metadata": {},
   "outputs": [
    {
     "name": "stdout",
     "output_type": "stream",
     "text": [
      "Hello python\n"
     ]
    }
   ],
   "source": [
    "class Student2:\n",
    "    def fun(self):\n",
    "        print(\"Hello python\")\n",
    "x=Student2()\n",
    "x.fun()"
   ]
  },
  {
   "cell_type": "code",
   "execution_count": 9,
   "id": "1ff6d52d",
   "metadata": {},
   "outputs": [
    {
     "name": "stdout",
     "output_type": "stream",
     "text": [
      "Hello Learners 10\n"
     ]
    }
   ],
   "source": [
    "class Student3:\n",
    "    year=10\n",
    "    def func(self):\n",
    "        print(\"Hello Learners\",self.year)\n",
    "x=Student3()\n",
    "x.func()"
   ]
  },
  {
   "cell_type": "code",
   "execution_count": 10,
   "id": "7d2c3482",
   "metadata": {},
   "outputs": [
    {
     "name": "stdout",
     "output_type": "stream",
     "text": [
      "Bill Gates !\n"
     ]
    }
   ],
   "source": [
    "class Test:\n",
    "    def __init__(self,name):\n",
    "        self.name=name\n",
    "x=Test(\"Bill Gates !\")\n",
    "print(x.name)\n",
    "        "
   ]
  },
  {
   "cell_type": "code",
   "execution_count": 11,
   "id": "50fcde1b",
   "metadata": {},
   "outputs": [
    {
     "name": "stdout",
     "output_type": "stream",
     "text": [
      "Alon Mask \t 12\n",
      "Bil Gates! \t  20\n"
     ]
    }
   ],
   "source": [
    "class Alpha:\n",
    "    def __init__(self,name,age=20):\n",
    "        self.name=name\n",
    "        self.age=age\n",
    "a=Alpha(\"Alon Mask\",12)\n",
    "a1=Alpha(\"Bil Gates!\")\n",
    "print(a.name, \"\\t\", a.age)    \n",
    "print(a1.name, \"\\t \", a1.age)        "
   ]
  },
  {
   "cell_type": "code",
   "execution_count": 12,
   "id": "21e5cf04",
   "metadata": {},
   "outputs": [
    {
     "name": "stdout",
     "output_type": "stream",
     "text": [
      "Loss marks: 11 \n",
      " Percentage: 89.0\n",
      "Loss marks: 3 \n",
      " Percentage: 97.0\n"
     ]
    }
   ],
   "source": [
    "class Student:\n",
    "    Total=100\n",
    "    def __init__(self,marks=0):\n",
    "        self.marks=marks\n",
    "    def Findloss(self):\n",
    "        return self.Total-self.marks\n",
    "    def Findpercentage(self):\n",
    "        return (self.marks/self.Total)*100\n",
    "x=Student(89)\n",
    "x1=Student(97)\n",
    "print(\"Loss marks:\",x.Findloss(),\"\\n\",\"Percentage:\",x.Findpercentage())\n",
    "print(\"Loss marks:\",x1.Findloss(),\"\\n\",\"Percentage:\",x1.Findpercentage())\n",
    "\n"
   ]
  },
  {
   "cell_type": "code",
   "execution_count": 13,
   "id": "92cfc7f1",
   "metadata": {},
   "outputs": [
    {
     "name": "stdout",
     "output_type": "stream",
     "text": [
      "Attribute Intialized\n",
      "Name:Champ | Marks=99 | Gender:Male \n",
      "marks= 99\n",
      "DataBase Deleted !\n"
     ]
    }
   ],
   "source": [
    "class Student:\n",
    "    def __init__(self,name,marks,gender):\n",
    "        self.name=name\n",
    "        self.marks=marks\n",
    "        self.gender=gender\n",
    "        print(\"Attribute Intialized\")\n",
    "    def __len__(self):\n",
    "        return self.marks\n",
    "    def __str__(self):\n",
    "        return \"Name:%s | Marks=%s | Gender:%s \"%(self.name,self.marks,self.gender)\n",
    "    def __del__(self):\n",
    "        print(\"DataBase Deleted !\")\n",
    "x=Student(\"Champ\",99,\"Male\")\n",
    "print(x)\n",
    "print(\"marks=\",len(x))\n",
    "del x"
   ]
  },
  {
   "cell_type": "code",
   "execution_count": 14,
   "id": "b4bcb6f4",
   "metadata": {},
   "outputs": [],
   "source": [
    "class ElonMusk:\n",
    "    def __init__(self,age=45):\n",
    "        self.age=age\n",
    "        print(\"Profile Created\")\n",
    "    def name(self):\n",
    "        print(\"Elon Musk !\")\n",
    "    def age(self):\n",
    "        print(self.age)\n",
    "class Space(ElonMusk):\n",
    "    def __init__(self):\n",
    "        ElonMusk.__init__(self)\n",
    "        print(\"Company Profile Created\")\n",
    "    def name(self):\n",
    "        print(\"Space\")\n",
    "    def type(self):\n",
    "        print(\"Private Space !\")\n"
   ]
  },
  {
   "cell_type": "code",
   "execution_count": 15,
   "id": "8e8cf4c9",
   "metadata": {},
   "outputs": [
    {
     "name": "stdout",
     "output_type": "stream",
     "text": [
      "Profile Created\n",
      "Company Profile Created\n"
     ]
    }
   ],
   "source": [
    "obj=Space()"
   ]
  },
  {
   "cell_type": "code",
   "execution_count": 16,
   "id": "9de2c71f",
   "metadata": {},
   "outputs": [
    {
     "name": "stdout",
     "output_type": "stream",
     "text": [
      "Space\n",
      "None\n"
     ]
    },
    {
     "data": {
      "text/plain": [
       "45"
      ]
     },
     "execution_count": 16,
     "metadata": {},
     "output_type": "execute_result"
    }
   ],
   "source": [
    "print(obj.name())\n",
    "obj.age"
   ]
  },
  {
   "cell_type": "code",
   "execution_count": 17,
   "id": "a4f978ec",
   "metadata": {},
   "outputs": [],
   "source": [
    "class Alpha:\n",
    "    def __init__(self,name):\n",
    "        self.name=name\n",
    "    def type(self):\n",
    "        return \"Data Science\"\n",
    "class Beta:\n",
    "    def __init__(self,name):\n",
    "        self.name=name\n",
    "    def type(self):\n",
    "        return \"Machine Learning\"\n",
    "obj1=Alpha(\"Pramanand\")\n",
    "obj2=Beta(\"Jyoti\")"
   ]
  },
  {
   "cell_type": "code",
   "execution_count": 18,
   "id": "01e121bf",
   "metadata": {},
   "outputs": [
    {
     "name": "stdout",
     "output_type": "stream",
     "text": [
      "Data Science\n",
      "Machine Learning\n"
     ]
    }
   ],
   "source": [
    "print(obj1.type())\n",
    "print(obj2.type())"
   ]
  },
  {
   "cell_type": "code",
   "execution_count": 19,
   "id": "ba2543f3",
   "metadata": {},
   "outputs": [
    {
     "name": "stdout",
     "output_type": "stream",
     "text": [
      "Pramanand\n",
      "Data Science\n",
      ".......................................\n",
      "Jyoti\n",
      "Machine Learning\n",
      ".......................................\n"
     ]
    }
   ],
   "source": [
    "for i in [obj1,obj2]:\n",
    "    print(i.name)\n",
    "    print(i.type())\n",
    "    print(\".......................................\")"
   ]
  },
  {
   "cell_type": "code",
   "execution_count": null,
   "id": "4dce5bba",
   "metadata": {},
   "outputs": [],
   "source": []
  }
 ],
 "metadata": {
  "kernelspec": {
   "display_name": "Python 3 (ipykernel)",
   "language": "python",
   "name": "python3"
  },
  "language_info": {
   "codemirror_mode": {
    "name": "ipython",
    "version": 3
   },
   "file_extension": ".py",
   "mimetype": "text/x-python",
   "name": "python",
   "nbconvert_exporter": "python",
   "pygments_lexer": "ipython3",
   "version": "3.10.4"
  }
 },
 "nbformat": 4,
 "nbformat_minor": 5
}
