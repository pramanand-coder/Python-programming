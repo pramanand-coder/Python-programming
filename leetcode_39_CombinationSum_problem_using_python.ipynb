{
  "nbformat": 4,
  "nbformat_minor": 0,
  "metadata": {
    "colab": {
      "provenance": [],
      "authorship_tag": "ABX9TyNqPcdmrV4h8cDPP2p6B6Y/",
      "include_colab_link": true
    },
    "kernelspec": {
      "name": "python3",
      "display_name": "Python 3"
    },
    "language_info": {
      "name": "python"
    }
  },
  "cells": [
    {
      "cell_type": "markdown",
      "metadata": {
        "id": "view-in-github",
        "colab_type": "text"
      },
      "source": [
        "<a href=\"https://colab.research.google.com/github/pramanand-coder/Python-programming/blob/main/leetcode_39_CombinationSum_problem_using_python.ipynb\" target=\"_parent\"><img src=\"https://colab.research.google.com/assets/colab-badge.svg\" alt=\"Open In Colab\"/></a>"
      ]
    },
    {
      "cell_type": "code",
      "execution_count": 2,
      "metadata": {
        "id": "pk8L-I5QtYTr"
      },
      "outputs": [],
      "source": [
        "class Solution:\n",
        "    def combinationSum(self, candidates,target):\n",
        "        ans=[]\n",
        "        ds=[]\n",
        "        def fun(ind,candidates,target,ans,ds):\n",
        "            n=len(candidates)\n",
        "            if(ind==n):\n",
        "                if(target==0):\n",
        "                   ans.append(ds[:])\n",
        "                return\n",
        "            if(candidates[ind]<=target):\n",
        "                ds.append(candidates[ind])\n",
        "                fun(ind,candidates,target-candidates[ind],ans,ds[:])\n",
        "                ds.pop()\n",
        "            fun(ind+1,candidates,target,ans,ds)\n",
        "        fun(0,candidates,target,ans,ds)\n",
        "        return ans"
      ]
    },
    {
      "cell_type": "code",
      "source": [
        "l=[2,3,6,7]\n",
        "obj=Solution()\n",
        "a=obj.combinationSum(l,7)\n",
        "print(a)"
      ],
      "metadata": {
        "colab": {
          "base_uri": "https://localhost:8080/"
        },
        "id": "SDWqBXYctp85",
        "outputId": "42838c7b-87a2-4d81-d78a-8f33b585c5ea"
      },
      "execution_count": 5,
      "outputs": [
        {
          "output_type": "stream",
          "name": "stdout",
          "text": [
            "[[2, 2, 3], [7]]\n"
          ]
        }
      ]
    },
    {
      "cell_type": "code",
      "source": [
        "l=[2,3,5]\n",
        "obj=Solution()\n",
        "a=obj.combinationSum(l,8)\n",
        "print(a)"
      ],
      "metadata": {
        "colab": {
          "base_uri": "https://localhost:8080/"
        },
        "id": "53fH5BBGuNUa",
        "outputId": "4c9baa82-57d9-499b-8430-b09884e58ac2"
      },
      "execution_count": 6,
      "outputs": [
        {
          "output_type": "stream",
          "name": "stdout",
          "text": [
            "[[2, 2, 2, 2], [2, 3, 3], [3, 5]]\n"
          ]
        }
      ]
    }
  ]
}