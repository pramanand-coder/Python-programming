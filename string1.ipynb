{
  "nbformat": 4,
  "nbformat_minor": 0,
  "metadata": {
    "colab": {
      "provenance": [],
      "authorship_tag": "ABX9TyOxQlNWxuiEycwSFNf4KSuu",
      "include_colab_link": true
    },
    "kernelspec": {
      "name": "python3",
      "display_name": "Python 3"
    },
    "language_info": {
      "name": "python"
    }
  },
  "cells": [
    {
      "cell_type": "markdown",
      "metadata": {
        "id": "view-in-github",
        "colab_type": "text"
      },
      "source": [
        "<a href=\"https://colab.research.google.com/github/pramanand-coder/Python-programming/blob/main/string1.ipynb\" target=\"_parent\"><img src=\"https://colab.research.google.com/assets/colab-badge.svg\" alt=\"Open In Colab\"/></a>"
      ]
    },
    {
      "cell_type": "markdown",
      "source": [
        "1.Write a program to reverse a string"
      ],
      "metadata": {
        "id": "zO12QMwewaKk"
      }
    },
    {
      "cell_type": "code",
      "execution_count": 1,
      "metadata": {
        "colab": {
          "base_uri": "https://localhost:8080/"
        },
        "id": "gYUtyb-BtGxS",
        "outputId": "734700f5-20af-42d8-d9cb-b9a775de4a98"
      },
      "outputs": [
        {
          "output_type": "stream",
          "name": "stdout",
          "text": [
            "Enter the string:\"twincle\n",
            "Reverse String: elcniwt\"\n"
          ]
        }
      ],
      "source": [
        "s=input(\"Enter the string:\")\n",
        "print(\"Reverse String:\",s[::-1])"
      ]
    },
    {
      "cell_type": "markdown",
      "source": [
        "2.Write a program to print the odd and even position character"
      ],
      "metadata": {
        "id": "wzs8ogpctbD6"
      }
    },
    {
      "cell_type": "code",
      "source": [
        "s=\"Python softawre tech company\"\n",
        "n=len(s)\n",
        "odd_c=s[1::2]\n",
        "even_c=s[::2]\n",
        "print(\"odd position character:\",odd_c)\n",
        "print(\"even postion character:\",even_c)"
      ],
      "metadata": {
        "colab": {
          "base_uri": "https://localhost:8080/"
        },
        "id": "znVg8o5mtRHz",
        "outputId": "8c5cd58e-6fb3-4038-fc5f-1aab22de9eae"
      },
      "execution_count": 2,
      "outputs": [
        {
          "output_type": "stream",
          "name": "stdout",
          "text": [
            "odd position character: yhnsfar ehcmay\n",
            "even postion character: Pto otwetc opn\n"
          ]
        }
      ]
    },
    {
      "cell_type": "markdown",
      "source": [
        "3.write a program to merge character of 2 string into a string by taking characters\n",
        "\n",
        "s1=\"ravi\"\n",
        "\n",
        "s2=\"teja\"\n",
        "\n",
        "output=\"rtaevjia\""
      ],
      "metadata": {
        "id": "nQp2mxp-ugTI"
      }
    },
    {
      "cell_type": "code",
      "source": [
        "s1=input(\"Enter the first string:\")\n",
        "s2=input(\"Enter the second string:\")\n",
        "n1=len(s1)\n",
        "n2=len(s2)\n",
        "i,j=0,0\n",
        "s=\"\"\n",
        "while i<n1 and j<n2:\n",
        "  s+=s1[i]\n",
        "  s+=s2[j]\n",
        "  i+=1\n",
        "  j+=1\n",
        "while(i<n1):\n",
        "  s+=s1[i]\n",
        "  i+=1\n",
        "while(j<n2):\n",
        "  s+=s2[j]\n",
        "  j+=1\n",
        "print(s)\n"
      ],
      "metadata": {
        "colab": {
          "base_uri": "https://localhost:8080/"
        },
        "id": "rOS9UUThuUun",
        "outputId": "ca4b4a06-0e9a-43b1-e082-2e4bdf425f7d"
      },
      "execution_count": 3,
      "outputs": [
        {
          "output_type": "stream",
          "name": "stdout",
          "text": [
            "Enter the first string:ravi\n",
            "Enter the second string:teja\n",
            "rtaevjia\n"
          ]
        }
      ]
    }
  ]
}