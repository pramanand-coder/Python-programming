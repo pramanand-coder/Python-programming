{
  "nbformat": 4,
  "nbformat_minor": 0,
  "metadata": {
    "colab": {
      "provenance": [],
      "authorship_tag": "ABX9TyN1NIIMeItdYcU0yXTbvGpi",
      "include_colab_link": true
    },
    "kernelspec": {
      "name": "python3",
      "display_name": "Python 3"
    },
    "language_info": {
      "name": "python"
    }
  },
  "cells": [
    {
      "cell_type": "markdown",
      "metadata": {
        "id": "view-in-github",
        "colab_type": "text"
      },
      "source": [
        "<a href=\"https://colab.research.google.com/github/pramanand-coder/Python-programming/blob/main/intersectionOftwo_SortedArray.ipynb\" target=\"_parent\"><img src=\"https://colab.research.google.com/assets/colab-badge.svg\" alt=\"Open In Colab\"/></a>"
      ]
    },
    {
      "cell_type": "markdown",
      "source": [
        "**INTERSECTION OF TWO SORTED ARRAY**\n",
        "\n",
        "**Time complexity**=O(n1+n2)\n",
        "\n",
        "\n",
        "**Space complexity**=O(1)"
      ],
      "metadata": {
        "id": "btmbgEQjVNv_"
      }
    },
    {
      "cell_type": "code",
      "execution_count": 4,
      "metadata": {
        "id": "P14JG-jBUMnE"
      },
      "outputs": [],
      "source": [
        "def Intersection(a,b):\n",
        "  n1=len(a)\n",
        "  n2=len(b)\n",
        "  i=0\n",
        "  j=0\n",
        "  ans=[]\n",
        "  while(i<n1 and j<n2):\n",
        "    if(a[i]<b[j]):\n",
        "      i+=1\n",
        "    elif(a[i]>b[j]):\n",
        "      j+=1\n",
        "    else:\n",
        "      ans.append(a[i])\n",
        "      i+=1\n",
        "      j+=1\n",
        "  return ans"
      ]
    },
    {
      "cell_type": "code",
      "source": [
        "x=[1,2,2,3,4,5,6,7]\n",
        "y=[2,2,3,4,6,7]\n",
        "a=Intersection(x,y)\n",
        "print(a)"
      ],
      "metadata": {
        "colab": {
          "base_uri": "https://localhost:8080/"
        },
        "id": "yCLBl1CEU2DS",
        "outputId": "7d7b9fa8-ddcc-431a-9dd6-e41b25bf0c14"
      },
      "execution_count": 3,
      "outputs": [
        {
          "output_type": "stream",
          "name": "stdout",
          "text": [
            "[2, 2, 3, 4, 6, 7]\n"
          ]
        }
      ]
    }
  ]
}