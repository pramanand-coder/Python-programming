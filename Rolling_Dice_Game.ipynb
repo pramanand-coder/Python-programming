{
  "nbformat": 4,
  "nbformat_minor": 0,
  "metadata": {
    "colab": {
      "provenance": [],
      "authorship_tag": "ABX9TyM+uqo24aymXWCcnjgL7djz",
      "include_colab_link": true
    },
    "kernelspec": {
      "name": "python3",
      "display_name": "Python 3"
    },
    "language_info": {
      "name": "python"
    }
  },
  "cells": [
    {
      "cell_type": "markdown",
      "metadata": {
        "id": "view-in-github",
        "colab_type": "text"
      },
      "source": [
        "<a href=\"https://colab.research.google.com/github/pramanand-coder/Python-programming/blob/main/Rolling_Dice_Game.ipynb\" target=\"_parent\"><img src=\"https://colab.research.google.com/assets/colab-badge.svg\" alt=\"Open In Colab\"/></a>"
      ]
    },
    {
      "cell_type": "code",
      "execution_count": 3,
      "metadata": {
        "colab": {
          "base_uri": "https://localhost:8080/"
        },
        "id": "MdyR4cbXhyL0",
        "outputId": "cd543761-79d8-4634-cff0-eadce9ea0229"
      },
      "outputs": [
        {
          "output_type": "stream",
          "name": "stdout",
          "text": [
            "Rolling the dice..........\n",
            "The values are.............\n",
            "4 6\n",
            "press y or yes to play again:y\n",
            "Rolling the dice..........\n",
            "The values are.............\n",
            "2 2\n",
            "press y or yes to play again:yes\n",
            "Rolling the dice..........\n",
            "The values are.............\n",
            "2 3\n",
            "press y or yes to play again:yes\n",
            "Rolling the dice..........\n",
            "The values are.............\n",
            "3 2\n",
            "press y or yes to play again:y\n",
            "Rolling the dice..........\n",
            "The values are.............\n",
            "3 3\n",
            "press y or yes to play again:y\n",
            "Rolling the dice..........\n",
            "The values are.............\n",
            "2 5\n",
            "press y or yes to play again:yes\n",
            "Rolling the dice..........\n",
            "The values are.............\n",
            "4 4\n",
            "press y or yes to play again:no\n",
            "Thanks for Playing\n"
          ]
        }
      ],
      "source": [
        "import random\n",
        "min_value=1\n",
        "max_value=6\n",
        "rolling_dice=\"yes\"\n",
        "while rolling_dice==\"y\" or rolling_dice==\"yes\":\n",
        "  print(\"Rolling the dice..........\")\n",
        "  print(\"The values are.............\")\n",
        "  value1=random.randint(min_value,max_value)\n",
        "  value2=random.randint(min_value,max_value)\n",
        "  print(value1,value2)\n",
        "  rolling_dice=input(\"press y or yes to play again:\")\n",
        "print(\"Thanks for Playing\")"
      ]
    },
    {
      "cell_type": "code",
      "source": [],
      "metadata": {
        "id": "lyFAWupnipx_"
      },
      "execution_count": null,
      "outputs": []
    }
  ]
}