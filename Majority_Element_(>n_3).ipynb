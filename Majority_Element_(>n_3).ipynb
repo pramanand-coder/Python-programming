{
  "nbformat": 4,
  "nbformat_minor": 0,
  "metadata": {
    "colab": {
      "provenance": [],
      "authorship_tag": "ABX9TyMIB/G1SNTdy/s/kvTN9AL6",
      "include_colab_link": true
    },
    "kernelspec": {
      "name": "python3",
      "display_name": "Python 3"
    },
    "language_info": {
      "name": "python"
    }
  },
  "cells": [
    {
      "cell_type": "markdown",
      "metadata": {
        "id": "view-in-github",
        "colab_type": "text"
      },
      "source": [
        "<a href=\"https://colab.research.google.com/github/pramanand-coder/Python-programming/blob/main/Majority_Element_(%3En_3).ipynb\" target=\"_parent\"><img src=\"https://colab.research.google.com/assets/colab-badge.svg\" alt=\"Open In Colab\"/></a>"
      ]
    },
    {
      "cell_type": "code",
      "execution_count": 6,
      "metadata": {
        "colab": {
          "base_uri": "https://localhost:8080/"
        },
        "id": "uYPFpbGcMIA3",
        "outputId": "1e1f2f03-9205-4e13-965e-9da743b8f76b"
      },
      "outputs": [
        {
          "output_type": "stream",
          "name": "stdout",
          "text": [
            "[1, 2]\n"
          ]
        }
      ],
      "source": [
        "def majorityElement(arr: [int]) -> [int]:\n",
        "    # Write your code here\n",
        "    n=len(arr)\n",
        "    cnt1=0\n",
        "    cnt2=0\n",
        "    ele1=-999999\n",
        "    ele2=-999999\n",
        "    for i in range(n):\n",
        "        if(cnt1==0 and ele2!=arr[i]):\n",
        "            cnt1=1\n",
        "            ele1=arr[i]\n",
        "        elif(cnt2==0 and ele1!=arr[i]):\n",
        "            cnt2=1\n",
        "            ele2=arr[i]\n",
        "        elif(ele1==arr[i]):\n",
        "            cnt1+=1\n",
        "        elif(ele2==arr[i]):\n",
        "            cnt2+=1\n",
        "        else:\n",
        "            cnt1-=1\n",
        "            cnt2-=1\n",
        "    res=[]\n",
        "    cnt1=0\n",
        "    cnt2=0\n",
        "    for i in range(n):\n",
        "        if(ele1==arr[i]):\n",
        "            cnt1+=1\n",
        "        if(ele2==arr[i]):\n",
        "            cnt2+=1\n",
        "    if(cnt1>=(n//3 +1)):\n",
        "        res.append(ele1)\n",
        "    if(cnt2>=(n//3 +1)):\n",
        "        res.append(ele2)\n",
        "    res.sort()\n",
        "    return res\n",
        "a=majorityElement([1,1,1,2,2,2])\n",
        "print(a)"
      ]
    },
    {
      "cell_type": "code",
      "source": [],
      "metadata": {
        "id": "E4fJMSkvMOco"
      },
      "execution_count": null,
      "outputs": []
    }
  ]
}