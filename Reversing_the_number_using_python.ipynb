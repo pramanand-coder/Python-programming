{
  "nbformat": 4,
  "nbformat_minor": 0,
  "metadata": {
    "colab": {
      "provenance": [],
      "authorship_tag": "ABX9TyO8dzkiC1um21eErUz8sgsc",
      "include_colab_link": true
    },
    "kernelspec": {
      "name": "python3",
      "display_name": "Python 3"
    },
    "language_info": {
      "name": "python"
    }
  },
  "cells": [
    {
      "cell_type": "markdown",
      "metadata": {
        "id": "view-in-github",
        "colab_type": "text"
      },
      "source": [
        "<a href=\"https://colab.research.google.com/github/pramanand-coder/Python-programming/blob/main/Reversing_the_number_using_python.ipynb\" target=\"_parent\"><img src=\"https://colab.research.google.com/assets/colab-badge.svg\" alt=\"Open In Colab\"/></a>"
      ]
    },
    {
      "cell_type": "code",
      "execution_count": 1,
      "metadata": {
        "id": "pMTZv5fFCtDK"
      },
      "outputs": [],
      "source": [
        "class Calculate:\n",
        "  def Reverse(self,num):\n",
        "    rev=0\n",
        "    while num:\n",
        "      digit=num%10\n",
        "      num=num//10\n",
        "      rev=rev*10+digit\n",
        "    return rev\n",
        ""
      ]
    },
    {
      "cell_type": "code",
      "source": [
        "obj=Calculate()\n",
        "a=int(input(\"Enter the number:\"))\n",
        "c=obj.Reverse(a)\n",
        "print(\"The reverse number is \",c)"
      ],
      "metadata": {
        "colab": {
          "base_uri": "https://localhost:8080/"
        },
        "id": "mPF5KfzXDypL",
        "outputId": "f4eaeb1a-0336-41be-fbe5-3ca0b5888522"
      },
      "execution_count": 2,
      "outputs": [
        {
          "output_type": "stream",
          "name": "stdout",
          "text": [
            "Enter the number:456778\n",
            "The reverse number is  877654\n"
          ]
        }
      ]
    }
  ]
}