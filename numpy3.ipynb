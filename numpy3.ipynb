{
  "nbformat": 4,
  "nbformat_minor": 0,
  "metadata": {
    "colab": {
      "provenance": [],
      "authorship_tag": "ABX9TyMcyreSi2EDMqbaiiZqBRH+",
      "include_colab_link": true
    },
    "kernelspec": {
      "name": "python3",
      "display_name": "Python 3"
    },
    "language_info": {
      "name": "python"
    }
  },
  "cells": [
    {
      "cell_type": "markdown",
      "metadata": {
        "id": "view-in-github",
        "colab_type": "text"
      },
      "source": [
        "<a href=\"https://colab.research.google.com/github/pramanand-coder/Python-programming/blob/main/numpy3.ipynb\" target=\"_parent\"><img src=\"https://colab.research.google.com/assets/colab-badge.svg\" alt=\"Open In Colab\"/></a>"
      ]
    },
    {
      "cell_type": "code",
      "execution_count": 1,
      "metadata": {
        "id": "di6Gjeda4cjJ"
      },
      "outputs": [],
      "source": [
        "from sklearn.datasets import load_iris\n",
        "import numpy as np"
      ]
    },
    {
      "cell_type": "code",
      "source": [
        "iris=load_iris()"
      ],
      "metadata": {
        "id": "BDnVzQO44jWQ"
      },
      "execution_count": 2,
      "outputs": []
    },
    {
      "cell_type": "code",
      "source": [
        "iris.data.shape"
      ],
      "metadata": {
        "colab": {
          "base_uri": "https://localhost:8080/"
        },
        "id": "RHnQUL-o4uFO",
        "outputId": "5ec8d1bf-5af9-4a5c-85b4-e8925ad2284e"
      },
      "execution_count": 3,
      "outputs": [
        {
          "output_type": "execute_result",
          "data": {
            "text/plain": [
              "(150, 4)"
            ]
          },
          "metadata": {},
          "execution_count": 3
        }
      ]
    },
    {
      "cell_type": "code",
      "source": [
        "x=iris.data\n",
        "y=iris.target"
      ],
      "metadata": {
        "id": "sRATbfQo40mw"
      },
      "execution_count": 4,
      "outputs": []
    },
    {
      "cell_type": "code",
      "source": [
        "np.unique(y)"
      ],
      "metadata": {
        "colab": {
          "base_uri": "https://localhost:8080/"
        },
        "id": "fIA5iord47of",
        "outputId": "a49e5c1e-bfa4-4b9c-bb49-5d2660ce36a1"
      },
      "execution_count": 5,
      "outputs": [
        {
          "output_type": "execute_result",
          "data": {
            "text/plain": [
              "array([0, 1, 2])"
            ]
          },
          "metadata": {},
          "execution_count": 5
        }
      ]
    },
    {
      "cell_type": "code",
      "source": [
        "y.shape"
      ],
      "metadata": {
        "colab": {
          "base_uri": "https://localhost:8080/"
        },
        "id": "EDOqti5d4-UA",
        "outputId": "1807968a-7824-4096-9335-8cab6f519830"
      },
      "execution_count": 6,
      "outputs": [
        {
          "output_type": "execute_result",
          "data": {
            "text/plain": [
              "(150,)"
            ]
          },
          "metadata": {},
          "execution_count": 6
        }
      ]
    },
    {
      "cell_type": "code",
      "source": [
        "print(y[50])"
      ],
      "metadata": {
        "colab": {
          "base_uri": "https://localhost:8080/"
        },
        "id": "q1WKgunJ5Htp",
        "outputId": "64f66c8c-b788-41a1-ae97-3c3397c8a485"
      },
      "execution_count": 7,
      "outputs": [
        {
          "output_type": "stream",
          "name": "stdout",
          "text": [
            "1\n"
          ]
        }
      ]
    },
    {
      "cell_type": "code",
      "source": [
        "print(x[50,:])"
      ],
      "metadata": {
        "colab": {
          "base_uri": "https://localhost:8080/"
        },
        "id": "qxFhjEtS5PG5",
        "outputId": "2bfc973f-01f2-4df1-982b-5edb54945c3c"
      },
      "execution_count": 8,
      "outputs": [
        {
          "output_type": "stream",
          "name": "stdout",
          "text": [
            "[7.  3.2 4.7 1.4]\n"
          ]
        }
      ]
    },
    {
      "cell_type": "markdown",
      "source": [
        "spliting data into train and test data"
      ],
      "metadata": {
        "id": "iKxe_ddR6noa"
      }
    },
    {
      "cell_type": "code",
      "source": [
        "def trainTest(X,Y,test_size):\n",
        "  idx=np.random.permutation(y.size)\n",
        "  ts=int(np.floor(test_size*y.size))\n",
        "  testIdx=idx[:ts]\n",
        "  trainIdx=idx[ts:]\n",
        "  xtrain=x[trainIdx,:]\n",
        "  xtest=x[testIdx,:]\n",
        "  ytrain=y[trainIdx]\n",
        "  ytest=y[testIdx]\n",
        "  return xtrain,xtest,ytrain,ytest\n",
        "x_train,x_test,y_train,y_test=trainTest(x,y,0.25)"
      ],
      "metadata": {
        "id": "Bch-06il5T-e"
      },
      "execution_count": 9,
      "outputs": []
    },
    {
      "cell_type": "code",
      "source": [
        "print(x_train.shape,x_test.shape)"
      ],
      "metadata": {
        "colab": {
          "base_uri": "https://localhost:8080/"
        },
        "id": "MCsT5AlM89AM",
        "outputId": "02983b22-d66d-40d0-e9b8-4570782b32ae"
      },
      "execution_count": 10,
      "outputs": [
        {
          "output_type": "stream",
          "name": "stdout",
          "text": [
            "(113, 4) (37, 4)\n"
          ]
        }
      ]
    },
    {
      "cell_type": "code",
      "source": [
        "print(y_train.shape,y_test.shape)"
      ],
      "metadata": {
        "colab": {
          "base_uri": "https://localhost:8080/"
        },
        "id": "1vv1qFN09_MP",
        "outputId": "d2b14e93-585a-45bf-ceea-464d263548d1"
      },
      "execution_count": 11,
      "outputs": [
        {
          "output_type": "stream",
          "name": "stdout",
          "text": [
            "(113,) (37,)\n"
          ]
        }
      ]
    },
    {
      "cell_type": "code",
      "source": [
        "D=np.sum((x_train[:,np.newaxis,:]-x_test[np.newaxis,:,:])**2,axis=2)"
      ],
      "metadata": {
        "id": "bL3kANbD-M0u"
      },
      "execution_count": 12,
      "outputs": []
    },
    {
      "cell_type": "code",
      "source": [
        "D.shape"
      ],
      "metadata": {
        "colab": {
          "base_uri": "https://localhost:8080/"
        },
        "id": "nY58TMNR-1wg",
        "outputId": "916a8e3c-9f10-41ff-d021-d6db47cc305e"
      },
      "execution_count": 13,
      "outputs": [
        {
          "output_type": "execute_result",
          "data": {
            "text/plain": [
              "(113, 37)"
            ]
          },
          "metadata": {},
          "execution_count": 13
        }
      ]
    },
    {
      "cell_type": "code",
      "source": [
        "D[0,0]"
      ],
      "metadata": {
        "colab": {
          "base_uri": "https://localhost:8080/"
        },
        "id": "XmNUSlYi_gT5",
        "outputId": "7d3bec26-49d8-449f-d385-56ac9d30e367"
      },
      "execution_count": 14,
      "outputs": [
        {
          "output_type": "execute_result",
          "data": {
            "text/plain": [
              "0.27000000000000024"
            ]
          },
          "metadata": {},
          "execution_count": 14
        }
      ]
    },
    {
      "cell_type": "code",
      "source": [
        "nidx=np.argsort(D,axis=0)\n",
        "print(nidx)\n",
        "print(nidx.shape)"
      ],
      "metadata": {
        "colab": {
          "base_uri": "https://localhost:8080/"
        },
        "id": "cjWqaVt0_leB",
        "outputId": "7e39face-4a41-463b-8d1b-fa8154cd5dc3"
      },
      "execution_count": 15,
      "outputs": [
        {
          "output_type": "stream",
          "name": "stdout",
          "text": [
            "[[102  51 103 ...  21 104   3]\n",
            " [ 70  85  51 ...  51   2  10]\n",
            " [111  76  39 ...  30  46  22]\n",
            " ...\n",
            " [ 38  34  34 ...  34 101  38]\n",
            " [ 68   1   1 ...   1  68  90]\n",
            " [ 90  27  27 ...  27  90  68]]\n",
            "(113, 37)\n"
          ]
        }
      ]
    },
    {
      "cell_type": "code",
      "source": [
        "nidx[:5,0]"
      ],
      "metadata": {
        "colab": {
          "base_uri": "https://localhost:8080/"
        },
        "id": "IOdQ7ppIBb33",
        "outputId": "8715e727-9177-4568-f82c-216f11f07345"
      },
      "execution_count": 16,
      "outputs": [
        {
          "output_type": "execute_result",
          "data": {
            "text/plain": [
              "array([102,  70, 111,   0,  46])"
            ]
          },
          "metadata": {},
          "execution_count": 16
        }
      ]
    },
    {
      "cell_type": "code",
      "source": [
        "idx=nidx[:10,1]"
      ],
      "metadata": {
        "id": "PcCvC2etBrlB"
      },
      "execution_count": 17,
      "outputs": []
    },
    {
      "cell_type": "code",
      "source": [
        "from scipy import stats\n",
        "stats.mode(y_train[idx])"
      ],
      "metadata": {
        "colab": {
          "base_uri": "https://localhost:8080/"
        },
        "id": "2PkfI4AVB2yY",
        "outputId": "a333e614-3c8f-484e-daa7-0888debdd87a"
      },
      "execution_count": 18,
      "outputs": [
        {
          "output_type": "execute_result",
          "data": {
            "text/plain": [
              "ModeResult(mode=0, count=10)"
            ]
          },
          "metadata": {},
          "execution_count": 18
        }
      ]
    },
    {
      "cell_type": "code",
      "source": [
        "y_test[1]"
      ],
      "metadata": {
        "colab": {
          "base_uri": "https://localhost:8080/"
        },
        "id": "cfqqZuHDCCHE",
        "outputId": "c6573c38-c4ad-46e5-aa4d-f15f124fc4dd"
      },
      "execution_count": 19,
      "outputs": [
        {
          "output_type": "execute_result",
          "data": {
            "text/plain": [
              "0"
            ]
          },
          "metadata": {},
          "execution_count": 19
        }
      ]
    },
    {
      "cell_type": "markdown",
      "source": [
        "numpy towards pandas"
      ],
      "metadata": {
        "id": "lhF-Nk1aCi4y"
      }
    },
    {
      "cell_type": "code",
      "source": [
        "x=np.array([(\"Pramanand\",\"DUV100\",100),(\"JYOTI\",\"NUR100\",98)],\n",
        "           dtype=[('Name','U10'),(\"ID\",\"U8\"),('Mark','i8')])"
      ],
      "metadata": {
        "id": "Uq6w2YMjCEjT"
      },
      "execution_count": 20,
      "outputs": []
    },
    {
      "cell_type": "code",
      "source": [
        "print(x)"
      ],
      "metadata": {
        "colab": {
          "base_uri": "https://localhost:8080/"
        },
        "id": "ik_rko_PEaR6",
        "outputId": "875e657f-354a-4387-8ecb-ec53e492f37e"
      },
      "execution_count": 21,
      "outputs": [
        {
          "output_type": "stream",
          "name": "stdout",
          "text": [
            "[('Pramanand', 'DUV100', 100) ('JYOTI', 'NUR100',  98)]\n"
          ]
        }
      ]
    },
    {
      "cell_type": "code",
      "source": [
        "x['Name']"
      ],
      "metadata": {
        "colab": {
          "base_uri": "https://localhost:8080/"
        },
        "id": "wFD823ZtEcR0",
        "outputId": "75e7bdc7-d95a-4a8e-8e3a-ba9ff83c4a64"
      },
      "execution_count": 22,
      "outputs": [
        {
          "output_type": "execute_result",
          "data": {
            "text/plain": [
              "array(['Pramanand', 'JYOTI'], dtype='<U10')"
            ]
          },
          "metadata": {},
          "execution_count": 22
        }
      ]
    },
    {
      "cell_type": "code",
      "source": [
        "x[[\"Name\",\"Mark\"]]"
      ],
      "metadata": {
        "colab": {
          "base_uri": "https://localhost:8080/"
        },
        "id": "qPgZ2JTHEg3s",
        "outputId": "21c1ad60-6da9-4f6f-927e-25eae92b730d"
      },
      "execution_count": 23,
      "outputs": [
        {
          "output_type": "execute_result",
          "data": {
            "text/plain": [
              "array([('Pramanand', 100), ('JYOTI',  98)],\n",
              "      dtype={'names': ['Name', 'Mark'], 'formats': ['<U10', '<i8'], 'offsets': [0, 72], 'itemsize': 80})"
            ]
          },
          "metadata": {},
          "execution_count": 23
        }
      ]
    }
  ]
}