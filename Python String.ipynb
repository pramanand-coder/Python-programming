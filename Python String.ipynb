{
 "cells": [
  {
   "cell_type": "code",
   "execution_count": 1,
   "id": "3a5c33e9",
   "metadata": {},
   "outputs": [],
   "source": [
    "import pandas as pd\n",
    "import numpy as np"
   ]
  },
  {
   "cell_type": "code",
   "execution_count": 1,
   "id": "21927add",
   "metadata": {},
   "outputs": [
    {
     "name": "stdout",
     "output_type": "stream",
     "text": [
      "<class 'str'>\n"
     ]
    }
   ],
   "source": [
    "name=\"pramanand\"\n",
    "print(type(name))"
   ]
  },
  {
   "cell_type": "code",
   "execution_count": 14,
   "id": "788f79bc",
   "metadata": {},
   "outputs": [
    {
     "name": "stdout",
     "output_type": "stream",
     "text": [
      "{}\n"
     ]
    }
   ],
   "source": [
    "c=name\n",
    "print(s)"
   ]
  },
  {
   "cell_type": "code",
   "execution_count": 7,
   "id": "66afe00d",
   "metadata": {},
   "outputs": [
    {
     "name": "stdout",
     "output_type": "stream",
     "text": [
      "pramanand\n"
     ]
    }
   ],
   "source": [
    "name=\"Jyoti\"\n",
    "print(s)"
   ]
  },
  {
   "cell_type": "code",
   "execution_count": 8,
   "id": "8c124066",
   "metadata": {},
   "outputs": [],
   "source": [
    "list=[23,45,67,85]\n",
    "li=list\n",
    "li1=list.copy()"
   ]
  },
  {
   "cell_type": "code",
   "execution_count": 10,
   "id": "5ec65663",
   "metadata": {},
   "outputs": [
    {
     "name": "stdout",
     "output_type": "stream",
     "text": [
      "[23, 45, 67, 85] [23, 45, 67, 85]\n",
      "[23, 'Pramanand', 67, 85] [23, 45, 67, 85]\n"
     ]
    }
   ],
   "source": [
    "print(li,li1)\n",
    "list[1]=\"Pramanand\"\n",
    "print(li,li1)"
   ]
  },
  {
   "cell_type": "code",
   "execution_count": 11,
   "id": "93c96316",
   "metadata": {},
   "outputs": [
    {
     "name": "stdout",
     "output_type": "stream",
     "text": [
      "<class 'dict'>\n"
     ]
    }
   ],
   "source": [
    "s={}\n",
    "print(type(s))"
   ]
  },
  {
   "cell_type": "code",
   "execution_count": 15,
   "id": "b9cde2f3",
   "metadata": {},
   "outputs": [
    {
     "name": "stdout",
     "output_type": "stream",
     "text": [
      "5\n",
      "Jyoti\n"
     ]
    }
   ],
   "source": [
    "print(len(c))\n",
    "print(c)"
   ]
  },
  {
   "cell_type": "code",
   "execution_count": 16,
   "id": "c40df486",
   "metadata": {},
   "outputs": [
    {
     "name": "stdout",
     "output_type": "stream",
     "text": [
      "75\n"
     ]
    }
   ],
   "source": [
    "print(30+45)"
   ]
  },
  {
   "cell_type": "code",
   "execution_count": 17,
   "id": "148cb5d6",
   "metadata": {},
   "outputs": [
    {
     "name": "stdout",
     "output_type": "stream",
     "text": [
      "True\n"
     ]
    }
   ],
   "source": [
    "print(23>12)"
   ]
  },
  {
   "cell_type": "code",
   "execution_count": 18,
   "id": "2c003bd7",
   "metadata": {},
   "outputs": [
    {
     "ename": "TypeError",
     "evalue": "'a' is an invalid keyword argument for print()",
     "output_type": "error",
     "traceback": [
      "\u001b[1;31m---------------------------------------------------------------------------\u001b[0m",
      "\u001b[1;31mTypeError\u001b[0m                                 Traceback (most recent call last)",
      "Input \u001b[1;32mIn [18]\u001b[0m, in \u001b[0;36m<cell line: 1>\u001b[1;34m()\u001b[0m\n\u001b[1;32m----> 1\u001b[0m \u001b[38;5;28;43mprint\u001b[39;49m\u001b[43m(\u001b[49m\u001b[43ma\u001b[49m\u001b[38;5;241;43m=\u001b[39;49m\u001b[38;5;241;43m23\u001b[39;49m\u001b[38;5;241;43m+\u001b[39;49m\u001b[38;5;241;43m34\u001b[39;49m\u001b[43m)\u001b[49m\n",
      "\u001b[1;31mTypeError\u001b[0m: 'a' is an invalid keyword argument for print()"
     ]
    }
   ],
   "source": [
    "print(a=23+34)"
   ]
  },
  {
   "cell_type": "code",
   "execution_count": 19,
   "id": "e98b088a",
   "metadata": {},
   "outputs": [
    {
     "ename": "TypeError",
     "evalue": "'str' object does not support item assignment",
     "output_type": "error",
     "traceback": [
      "\u001b[1;31m---------------------------------------------------------------------------\u001b[0m",
      "\u001b[1;31mTypeError\u001b[0m                                 Traceback (most recent call last)",
      "Input \u001b[1;32mIn [19]\u001b[0m, in \u001b[0;36m<cell line: 1>\u001b[1;34m()\u001b[0m\n\u001b[1;32m----> 1\u001b[0m \u001b[43mc\u001b[49m\u001b[43m[\u001b[49m\u001b[38;5;241;43m1\u001b[39;49m\u001b[43m]\u001b[49m\u001b[38;5;241m=\u001b[39m\u001b[38;5;124m\"\u001b[39m\u001b[38;5;124m23\u001b[39m\u001b[38;5;124m\"\u001b[39m\n",
      "\u001b[1;31mTypeError\u001b[0m: 'str' object does not support item assignment"
     ]
    }
   ],
   "source": [
    "c[1]=\"23\""
   ]
  },
  {
   "cell_type": "code",
   "execution_count": 25,
   "id": "6fcc4dee",
   "metadata": {},
   "outputs": [
    {
     "name": "stdout",
     "output_type": "stream",
     "text": [
      "abcdefghijklmnopqrstuvwxyzABCDEFGHIJKLMNOPQRSTUVWXYZ\n",
      "ABCDEFGHIJKLMNOPQRSTUVWXYZ\n",
      "abcdefghijklmnopqrstuvwxyz\n",
      "!\"#$%&'()*+,-./:;<=>?@[\\]^_`{|}~\n"
     ]
    }
   ],
   "source": [
    "import string\n",
    "print(string.ascii_letters)\n",
    "print(string.ascii_uppercase)\n",
    "print(string.ascii_lowercase)\n",
    "print(string.punctuation)"
   ]
  },
  {
   "cell_type": "code",
   "execution_count": 31,
   "id": "044df933",
   "metadata": {},
   "outputs": [
    {
     "name": "stdout",
     "output_type": "stream",
     "text": [
      "32\n"
     ]
    }
   ],
   "source": [
    "print(len(string.punctuation))"
   ]
  },
  {
   "cell_type": "code",
   "execution_count": 32,
   "id": "2546c089",
   "metadata": {},
   "outputs": [
    {
     "name": "stdout",
     "output_type": "stream",
     "text": [
      "52\n",
      "26\n",
      "26\n"
     ]
    }
   ],
   "source": [
    "print(len(string.ascii_letters))\n",
    "print(len(string.ascii_uppercase))\n",
    "print(len(string.ascii_lowercase))"
   ]
  },
  {
   "cell_type": "code",
   "execution_count": 33,
   "id": "71431bad",
   "metadata": {},
   "outputs": [
    {
     "name": "stdout",
     "output_type": "stream",
     "text": [
      "0123456789\n"
     ]
    }
   ],
   "source": [
    "print(string.digits)"
   ]
  },
  {
   "cell_type": "code",
   "execution_count": 34,
   "id": "5790f48a",
   "metadata": {},
   "outputs": [
    {
     "name": "stdout",
     "output_type": "stream",
     "text": [
      "0123456789abcdefABCDEF\n"
     ]
    }
   ],
   "source": [
    "print(string.hexdigits)"
   ]
  },
  {
   "cell_type": "code",
   "execution_count": 35,
   "id": "cceb1808",
   "metadata": {},
   "outputs": [
    {
     "name": "stdout",
     "output_type": "stream",
     "text": [
      "01234567\n"
     ]
    }
   ],
   "source": [
    "print(string.octdigits)"
   ]
  },
  {
   "cell_type": "code",
   "execution_count": 39,
   "id": "315e9195",
   "metadata": {},
   "outputs": [
    {
     "name": "stdout",
     "output_type": "stream",
     "text": [
      "False\n",
      "True\n"
     ]
    }
   ],
   "source": [
    "p=\"JyotiSoni\"\n",
    "print(p.startswith(\"JyoTi\"))\n",
    "print(p.endswith(\"ni\"))"
   ]
  },
  {
   "cell_type": "code",
   "execution_count": 42,
   "id": "1e0be68e",
   "metadata": {},
   "outputs": [
    {
     "name": "stdout",
     "output_type": "stream",
     "text": [
      "JyotiMukku\n"
     ]
    }
   ],
   "source": [
    "p1=p.replace(\"Soni\",\"Mukku\")\n",
    "print(p1)"
   ]
  },
  {
   "cell_type": "code",
   "execution_count": 55,
   "id": "0d9a6fa4",
   "metadata": {},
   "outputs": [
    {
     "name": "stdout",
     "output_type": "stream",
     "text": [
      "False\n",
      "True\n",
      "False\n",
      "True\n",
      "True\n"
     ]
    }
   ],
   "source": [
    "print(\"123.0\".isdigit())\n",
    "print(\"abs\".isalpha())\n",
    "print('123.0'.isdecimal())\n",
    "print(\"1sdpc\".isalnum())\n",
    "print(\"123A\".istitle())"
   ]
  },
  {
   "cell_type": "code",
   "execution_count": 3,
   "id": "97d11181",
   "metadata": {},
   "outputs": [
    {
     "name": "stdout",
     "output_type": "stream",
     "text": [
      "ALPHA1\n",
      "ALPHA\n",
      "alpha1\n",
      "aLPHA1\n",
      "Alpha1\n",
      "5\n",
      "5\n"
     ]
    }
   ],
   "source": [
    "s=\"Alpha1\"\n",
    "s1=\"Alpha\"\n",
    "print(s.upper())\n",
    "print(s1.upper())\n",
    "print(s.lower())\n",
    "print(s.swapcase())\n",
    "print(s.capitalize())\n",
    "print(s.find('1'))\n",
    "print(s.rfind('1'))"
   ]
  },
  {
   "cell_type": "code",
   "execution_count": 11,
   "id": "a6df1094",
   "metadata": {},
   "outputs": [
    {
     "name": "stdout",
     "output_type": "stream",
     "text": [
      "4\n",
      "9\n"
     ]
    }
   ],
   "source": [
    "s1=\"Alpha,Beta\"\n",
    "print(s1.find('a'))\n",
    "print(s1.rfind('a'))"
   ]
  },
  {
   "cell_type": "code",
   "execution_count": 77,
   "id": "ad1878c0",
   "metadata": {},
   "outputs": [
    {
     "name": "stdout",
     "output_type": "stream",
     "text": [
      "0\n"
     ]
    }
   ],
   "source": [
    "print(s1.count('b'))"
   ]
  },
  {
   "cell_type": "code",
   "execution_count": 84,
   "id": "827bf21a",
   "metadata": {},
   "outputs": [
    {
     "name": "stdout",
     "output_type": "stream",
     "text": [
      "p\n"
     ]
    }
   ],
   "source": [
    "print(max(s1))"
   ]
  },
  {
   "cell_type": "code",
   "execution_count": 85,
   "id": "2b55dfe6",
   "metadata": {
    "scrolled": true
   },
   "outputs": [
    {
     "name": "stdout",
     "output_type": "stream",
     "text": [
      "A\n"
     ]
    }
   ],
   "source": [
    "print(min(s1))"
   ]
  },
  {
   "cell_type": "code",
   "execution_count": 15,
   "id": "847cb0f9",
   "metadata": {},
   "outputs": [
    {
     "name": "stdout",
     "output_type": "stream",
     "text": [
      "('Alpha,Beta', '', '')\n"
     ]
    }
   ],
   "source": [
    "print(s1.partition(\" \"))"
   ]
  },
  {
   "cell_type": "code",
   "execution_count": 16,
   "id": "2eb954f2",
   "metadata": {},
   "outputs": [
    {
     "name": "stdout",
     "output_type": "stream",
     "text": [
      "5\n"
     ]
    }
   ],
   "source": [
    "print(s1.index(','))"
   ]
  },
  {
   "cell_type": "code",
   "execution_count": 17,
   "id": "19b7e6ba",
   "metadata": {},
   "outputs": [
    {
     "name": "stdout",
     "output_type": "stream",
     "text": [
      "['Alpha,Beta']\n"
     ]
    }
   ],
   "source": [
    "print(s1.splitlines())"
   ]
  },
  {
   "cell_type": "code",
   "execution_count": null,
   "id": "05270165",
   "metadata": {},
   "outputs": [],
   "source": []
  }
 ],
 "metadata": {
  "kernelspec": {
   "display_name": "Python 3 (ipykernel)",
   "language": "python",
   "name": "python3"
  },
  "language_info": {
   "codemirror_mode": {
    "name": "ipython",
    "version": 3
   },
   "file_extension": ".py",
   "mimetype": "text/x-python",
   "name": "python",
   "nbconvert_exporter": "python",
   "pygments_lexer": "ipython3",
   "version": "3.10.4"
  }
 },
 "nbformat": 4,
 "nbformat_minor": 5
}
