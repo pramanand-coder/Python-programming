{
  "nbformat": 4,
  "nbformat_minor": 0,
  "metadata": {
    "colab": {
      "provenance": [],
      "authorship_tag": "ABX9TyOE+0yo+tPirx/fNHwUIveK",
      "include_colab_link": true
    },
    "kernelspec": {
      "name": "python3",
      "display_name": "Python 3"
    },
    "language_info": {
      "name": "python"
    }
  },
  "cells": [
    {
      "cell_type": "markdown",
      "metadata": {
        "id": "view-in-github",
        "colab_type": "text"
      },
      "source": [
        "<a href=\"https://colab.research.google.com/github/pramanand-coder/Python-programming/blob/main/checkSortedArray_coding_ninja.ipynb\" target=\"_parent\"><img src=\"https://colab.research.google.com/assets/colab-badge.svg\" alt=\"Open In Colab\"/></a>"
      ]
    },
    {
      "cell_type": "code",
      "source": [
        "def isSorted(n: int,  a: [int]) -> int:\n",
        "    # Write your code here.\n",
        "    for i in range(1,n):\n",
        "        if(a[i]>=a[i-1]):\n",
        "            pass\n",
        "        else:\n",
        "            return 0\n",
        "    return 1"
      ],
      "metadata": {
        "id": "eqtIQUUevRBJ"
      },
      "execution_count": 3,
      "outputs": []
    },
    {
      "cell_type": "code",
      "source": [
        "arr=(4,5,4,4,4)\n",
        "a=isSorted(len(arr)-1,arr)\n",
        "print(bool(a))"
      ],
      "metadata": {
        "colab": {
          "base_uri": "https://localhost:8080/"
        },
        "id": "MrDy2DocvTQo",
        "outputId": "f1ff368a-a3fd-41ee-a530-9994a3cf7de5"
      },
      "execution_count": 7,
      "outputs": [
        {
          "output_type": "stream",
          "name": "stdout",
          "text": [
            "False\n"
          ]
        }
      ]
    },
    {
      "cell_type": "code",
      "source": [
        "arr=[0,0,0,1]\n",
        "a=isSorted(len(arr)-1,arr)\n",
        "print(bool(a))"
      ],
      "metadata": {
        "colab": {
          "base_uri": "https://localhost:8080/"
        },
        "id": "iwbtgwRfwE8p",
        "outputId": "107279e2-c98a-4199-d826-adf667bd348f"
      },
      "execution_count": 8,
      "outputs": [
        {
          "output_type": "stream",
          "name": "stdout",
          "text": [
            "True\n"
          ]
        }
      ]
    }
  ]
}