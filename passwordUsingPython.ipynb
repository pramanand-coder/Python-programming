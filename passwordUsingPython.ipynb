{
  "nbformat": 4,
  "nbformat_minor": 0,
  "metadata": {
    "colab": {
      "provenance": [],
      "authorship_tag": "ABX9TyOAg1nfCm0CGYLPxp1c5+nH",
      "include_colab_link": true
    },
    "kernelspec": {
      "name": "python3",
      "display_name": "Python 3"
    },
    "language_info": {
      "name": "python"
    }
  },
  "cells": [
    {
      "cell_type": "markdown",
      "metadata": {
        "id": "view-in-github",
        "colab_type": "text"
      },
      "source": [
        "<a href=\"https://colab.research.google.com/github/pramanand-coder/Python-programming/blob/main/passwordUsingPython.ipynb\" target=\"_parent\"><img src=\"https://colab.research.google.com/assets/colab-badge.svg\" alt=\"Open In Colab\"/></a>"
      ]
    },
    {
      "cell_type": "markdown",
      "source": [
        "problem:you are given a function\n",
        "\n",
        "               int CheckPassword(char str[],int n,int min)\n",
        "\n",
        "The function will accept a string and its length n and another argument min which denotes minimum length of the password.You are supposed to print valid if the password meets criteria below or invalid if the password doesn't meet the criteria mentioned below\n",
        "\n",
        "1.At least min characters\n",
        "\n",
        "2.At least one numeric digit\n",
        "\n",
        "3.At least one capital letter\n",
        "\n",
        "4.At least one special character\n",
        "\n",
        "5.must not have space or +\n",
        "\n",
        "6.starting character must not be a number"
      ],
      "metadata": {
        "id": "CPyVMtGt63z8"
      }
    },
    {
      "cell_type": "code",
      "execution_count": 5,
      "metadata": {
        "id": "oa9NcY3h6yEh"
      },
      "outputs": [],
      "source": [
        "class PassWord:\n",
        "  def checkPassword(self,s,n,m):\n",
        "    u=d=sp=0\n",
        "    if m<=n:\n",
        "      for i in range(n):\n",
        "        if i==0 and s[i].isdigit():\n",
        "          return \"Invalid,First character is digit\"\n",
        "        elif s[i].isupper():\n",
        "          u=1\n",
        "        elif s[i].isdigit():\n",
        "          d=1\n",
        "        elif s[i] in {\"@\",\"_\",\"#\",\"$\",\"*\"}:\n",
        "          sp=1\n",
        "        elif s[i].isspace() or s[i]==\"+\":\n",
        "          return \"Invalid,+ or space character\"\n",
        "      if u==d==sp==1:\n",
        "        return 'Valid password'\n",
        "      elif u==0 and sp==0:\n",
        "        return \"Invalid,upper and special characters are missing\"\n",
        "      elif u==0 and d==0:\n",
        "        return \"Invalid,upper and digit characters are missing \"\n",
        "      elif u==0:\n",
        "        return \"Invalid,upper caharcter is missing\"\n",
        "      elif d==0 and sp==0:\n",
        "        return \"Invalid,digit and special characters are missing\"\n",
        "      elif d==0:\n",
        "        return \"Invalid,digit character is missing\"\n",
        "      elif sp==0:\n",
        "        return \"Invalid,special character is missing\"\n",
        "    else:\n",
        "      return \"Invalid,please provide min length of the characters\"\n"
      ]
    },
    {
      "cell_type": "code",
      "source": [
        "s=input(\"Enter the password:\")\n",
        "m=int(input(\"Enter the password min length:\"))\n",
        "obj=PassWord()\n",
        "print(obj.checkPassword(s,len(s),m))"
      ],
      "metadata": {
        "colab": {
          "base_uri": "https://localhost:8080/"
        },
        "id": "i9QuhNOk_ZEu",
        "outputId": "ad920afa-607e-45bd-9acf-5e9e695b6b89"
      },
      "execution_count": 6,
      "outputs": [
        {
          "output_type": "stream",
          "name": "stdout",
          "text": [
            "Enter the password:Welcome@123\n",
            "Enter the password min length:5\n",
            "Valid password\n"
          ]
        }
      ]
    },
    {
      "cell_type": "code",
      "source": [
        "s=input(\"Enter the password:\")\n",
        "m=int(input(\"Enter the password min length:\"))\n",
        "obj=PassWord()\n",
        "print(obj.checkPassword(s,len(s),m))\n"
      ],
      "metadata": {
        "colab": {
          "base_uri": "https://localhost:8080/"
        },
        "id": "Q-t6d01UADpU",
        "outputId": "c7877c9e-02e2-4161-c866-f7dcc0e607a4"
      },
      "execution_count": 7,
      "outputs": [
        {
          "output_type": "stream",
          "name": "stdout",
          "text": [
            "Enter the password:123welcome@\n",
            "Enter the password min length:5\n",
            "Invalid,First character is digit\n"
          ]
        }
      ]
    }
  ]
}