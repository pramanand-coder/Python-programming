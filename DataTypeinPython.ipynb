{
  "nbformat": 4,
  "nbformat_minor": 0,
  "metadata": {
    "colab": {
      "provenance": [],
      "authorship_tag": "ABX9TyN+ZHzUd2WBGXYZkO0DzU6F",
      "include_colab_link": true
    },
    "kernelspec": {
      "name": "python3",
      "display_name": "Python 3"
    },
    "language_info": {
      "name": "python"
    }
  },
  "cells": [
    {
      "cell_type": "markdown",
      "metadata": {
        "id": "view-in-github",
        "colab_type": "text"
      },
      "source": [
        "<a href=\"https://colab.research.google.com/github/pramanand-coder/Python-programming/blob/main/DataTypeinPython.ipynb\" target=\"_parent\"><img src=\"https://colab.research.google.com/assets/colab-badge.svg\" alt=\"Open In Colab\"/></a>"
      ]
    },
    {
      "cell_type": "markdown",
      "source": [
        "**Int data type**"
      ],
      "metadata": {
        "id": "Di5Xpp5w7LZn"
      }
    },
    {
      "cell_type": "code",
      "source": [
        "a=6784\n",
        "print(a,type(a))"
      ],
      "metadata": {
        "colab": {
          "base_uri": "https://localhost:8080/"
        },
        "id": "JKR5Nrka7KWV",
        "outputId": "42c4881c-56cf-424b-f7ba-dfa78cd41613"
      },
      "execution_count": 1,
      "outputs": [
        {
          "output_type": "stream",
          "name": "stdout",
          "text": [
            "6784 <class 'int'>\n"
          ]
        }
      ]
    },
    {
      "cell_type": "markdown",
      "source": [
        "We can assign binary,hex,octal values to the variable and it will return the int values"
      ],
      "metadata": {
        "id": "tGVoLJUG7cGa"
      }
    },
    {
      "cell_type": "code",
      "source": [
        "a=0b010101\n",
        "print(a,type(a))"
      ],
      "metadata": {
        "colab": {
          "base_uri": "https://localhost:8080/"
        },
        "id": "oACwXXQ37UrF",
        "outputId": "56b0bfad-98b5-4423-e295-5ae3798fefc4"
      },
      "execution_count": 2,
      "outputs": [
        {
          "output_type": "stream",
          "name": "stdout",
          "text": [
            "21 <class 'int'>\n"
          ]
        }
      ]
    },
    {
      "cell_type": "code",
      "source": [
        "b=0x67342\n",
        "print(b,type(b))\n",
        "c=0x1234ab23\n",
        "print(c)\n",
        "d=0o1234567\n",
        "print(d)"
      ],
      "metadata": {
        "colab": {
          "base_uri": "https://localhost:8080/"
        },
        "id": "jn5qvoHq7nX5",
        "outputId": "94cc04fc-2893-44f5-dc5b-ce8153bf6f88"
      },
      "execution_count": 3,
      "outputs": [
        {
          "output_type": "stream",
          "name": "stdout",
          "text": [
            "422722 <class 'int'>\n",
            "305441571\n",
            "342391\n"
          ]
        }
      ]
    },
    {
      "cell_type": "code",
      "source": [
        "#it will show the error because we cann't represent the binary,octal and hexadecimal values in the floating point\n",
        "a=ob01011.11"
      ],
      "metadata": {
        "colab": {
          "base_uri": "https://localhost:8080/",
          "height": 140
        },
        "id": "mrD91m6Y7w38",
        "outputId": "8b5559a8-bf41-433f-b227-d896e8fe438e"
      },
      "execution_count": 4,
      "outputs": [
        {
          "output_type": "error",
          "ename": "SyntaxError",
          "evalue": "ignored",
          "traceback": [
            "\u001b[0;36m  File \u001b[0;32m\"<ipython-input-4-fa7db9aec229>\"\u001b[0;36m, line \u001b[0;32m2\u001b[0m\n\u001b[0;31m    a=ob01011.11\u001b[0m\n\u001b[0m             ^\u001b[0m\n\u001b[0;31mSyntaxError\u001b[0m\u001b[0;31m:\u001b[0m invalid syntax\n"
          ]
        }
      ]
    },
    {
      "cell_type": "markdown",
      "source": [
        "**Float Data Type**"
      ],
      "metadata": {
        "id": "SrFZldpf3EtR"
      }
    },
    {
      "cell_type": "code",
      "execution_count": 10,
      "metadata": {
        "colab": {
          "base_uri": "https://localhost:8080/"
        },
        "id": "OKTH7LHV2_x5",
        "outputId": "ead904e3-82ff-4f28-96d2-348f90facb9a"
      },
      "outputs": [
        {
          "output_type": "stream",
          "name": "stdout",
          "text": [
            "87.89 <class 'float'>\n"
          ]
        }
      ],
      "source": [
        "f=87.89\n",
        "print(f,type(f))"
      ]
    },
    {
      "cell_type": "code",
      "source": [
        "f=1.2e3\n",
        "print(f,type(f))"
      ],
      "metadata": {
        "colab": {
          "base_uri": "https://localhost:8080/"
        },
        "id": "9AANr1cQ3Qn3",
        "outputId": "595e22ef-4924-4539-f318-e7ec19b66c60"
      },
      "execution_count": 11,
      "outputs": [
        {
          "output_type": "stream",
          "name": "stdout",
          "text": [
            "1200.0 <class 'float'>\n"
          ]
        }
      ]
    },
    {
      "cell_type": "markdown",
      "source": [
        "The Main advantage of exponential form is to represent big values in less memory"
      ],
      "metadata": {
        "id": "36dDOlmO3eF9"
      }
    },
    {
      "cell_type": "markdown",
      "source": [
        "We cann't represent binary,octal and hexadecimal number into floating point values"
      ],
      "metadata": {
        "id": "Y9deJNje3rKO"
      }
    },
    {
      "cell_type": "code",
      "source": [
        "#error because binary value cann't be represented in the floating point\n",
        "f=0B11.01"
      ],
      "metadata": {
        "colab": {
          "base_uri": "https://localhost:8080/",
          "height": 140
        },
        "id": "_UTGTC0U3Xhq",
        "outputId": "f61fc102-90a3-4cca-b77e-6f524f9bea18"
      },
      "execution_count": 5,
      "outputs": [
        {
          "output_type": "error",
          "ename": "SyntaxError",
          "evalue": "ignored",
          "traceback": [
            "\u001b[0;36m  File \u001b[0;32m\"<ipython-input-5-912344fb3541>\"\u001b[0;36m, line \u001b[0;32m1\u001b[0m\n\u001b[0;31m    f=0B11.01\u001b[0m\n\u001b[0m          ^\u001b[0m\n\u001b[0;31mSyntaxError\u001b[0m\u001b[0;31m:\u001b[0m invalid syntax\n"
          ]
        }
      ]
    },
    {
      "cell_type": "code",
      "source": [
        "#error\n",
        "f=0X123b.23a"
      ],
      "metadata": {
        "id": "k0tccPdg39mR"
      },
      "execution_count": null,
      "outputs": []
    },
    {
      "cell_type": "markdown",
      "source": [
        "**Complex data type**"
      ],
      "metadata": {
        "id": "TsMyGEp84Z6N"
      }
    },
    {
      "cell_type": "markdown",
      "source": [
        "a+bj\n",
        "\n",
        "a-->real part\n",
        "\n",
        "b-->imaginary part"
      ],
      "metadata": {
        "id": "MzE-FbOn4fJI"
      }
    },
    {
      "cell_type": "code",
      "source": [
        "a=3+5j\n",
        "print(a,type(a))"
      ],
      "metadata": {
        "colab": {
          "base_uri": "https://localhost:8080/"
        },
        "id": "krJ1-vKN4O_W",
        "outputId": "7d5581dd-5940-42dd-b8b4-73147cd46ac2"
      },
      "execution_count": 6,
      "outputs": [
        {
          "output_type": "stream",
          "name": "stdout",
          "text": [
            "(3+5j) <class 'complex'>\n"
          ]
        }
      ]
    },
    {
      "cell_type": "code",
      "source": [
        "print(a.real)\n",
        "print(a.imag)"
      ],
      "metadata": {
        "colab": {
          "base_uri": "https://localhost:8080/"
        },
        "id": "4fcMUrvQ4q1c",
        "outputId": "f909b28a-7630-4aed-ba6b-4d1bd6db20a4"
      },
      "execution_count": 7,
      "outputs": [
        {
          "output_type": "stream",
          "name": "stdout",
          "text": [
            "3.0\n",
            "5.0\n"
          ]
        }
      ]
    },
    {
      "cell_type": "markdown",
      "source": [
        "in complex data type we can represent real part as binary,hexa,and octal but not in the imaginary part"
      ],
      "metadata": {
        "id": "APENAg2o4339"
      }
    },
    {
      "cell_type": "code",
      "source": [
        "a=0B0101+7j\n",
        "print(a,type(a))"
      ],
      "metadata": {
        "colab": {
          "base_uri": "https://localhost:8080/"
        },
        "id": "Wq_ad2Cv43RC",
        "outputId": "d8139214-20e3-4516-fa52-0f38f26d4946"
      },
      "execution_count": 8,
      "outputs": [
        {
          "output_type": "stream",
          "name": "stdout",
          "text": [
            "(5+7j) <class 'complex'>\n"
          ]
        }
      ]
    },
    {
      "cell_type": "code",
      "source": [
        "b=7+0B0110j"
      ],
      "metadata": {
        "colab": {
          "base_uri": "https://localhost:8080/",
          "height": 140
        },
        "id": "KEsAhqtM4xHD",
        "outputId": "7fb3570c-d5c3-450b-b2ac-89bb8de9a1c4"
      },
      "execution_count": 9,
      "outputs": [
        {
          "output_type": "error",
          "ename": "SyntaxError",
          "evalue": "ignored",
          "traceback": [
            "\u001b[0;36m  File \u001b[0;32m\"<ipython-input-9-89daeb6cd918>\"\u001b[0;36m, line \u001b[0;32m1\u001b[0m\n\u001b[0;31m    b=7+0B0110j\u001b[0m\n\u001b[0m             ^\u001b[0m\n\u001b[0;31mSyntaxError\u001b[0m\u001b[0;31m:\u001b[0m invalid binary literal\n"
          ]
        }
      ]
    },
    {
      "cell_type": "markdown",
      "source": [
        "**Bool data type**\n",
        "\n",
        "we can use this data type represent the boolean values like True and False"
      ],
      "metadata": {
        "id": "r1jiLB3L5XXv"
      }
    },
    {
      "cell_type": "code",
      "source": [
        "b=True\n",
        "print(b,type(b))"
      ],
      "metadata": {
        "colab": {
          "base_uri": "https://localhost:8080/"
        },
        "id": "TTdWb8-u5S8u",
        "outputId": "37d79b32-0fcf-46f4-aee0-ddf3da135dd8"
      },
      "execution_count": 12,
      "outputs": [
        {
          "output_type": "stream",
          "name": "stdout",
          "text": [
            "True <class 'bool'>\n"
          ]
        }
      ]
    },
    {
      "cell_type": "code",
      "source": [
        "a=False\n",
        "print(int(a),float(a),complex(a),str(a))"
      ],
      "metadata": {
        "colab": {
          "base_uri": "https://localhost:8080/"
        },
        "id": "TjK_pdro5pxe",
        "outputId": "a9a47d8a-459b-4bd9-dc49-0e6375bde040"
      },
      "execution_count": 13,
      "outputs": [
        {
          "output_type": "stream",
          "name": "stdout",
          "text": [
            "0 0.0 0j False\n"
          ]
        }
      ]
    },
    {
      "cell_type": "markdown",
      "source": [
        "**String Data Type**\n",
        "\n",
        "it is a sequence of character and in python there is no char data type .in the python char data type is also represented by String data type only"
      ],
      "metadata": {
        "id": "oEelkg9h52-d"
      }
    },
    {
      "cell_type": "code",
      "source": [
        "s=\"Hello\"\n",
        "s1='Welcome'\n",
        "print(s,type(s))\n",
        "print(s1,type(s1))"
      ],
      "metadata": {
        "colab": {
          "base_uri": "https://localhost:8080/"
        },
        "id": "c_sQszQX5z6W",
        "outputId": "5ad11c76-792e-4328-fbe1-88b83034956e"
      },
      "execution_count": 14,
      "outputs": [
        {
          "output_type": "stream",
          "name": "stdout",
          "text": [
            "Hello <class 'str'>\n",
            "Welcome <class 'str'>\n"
          ]
        }
      ]
    },
    {
      "cell_type": "markdown",
      "source": [
        "Multiline string can be represented by triple single or double quotes"
      ],
      "metadata": {
        "id": "RT9ZSLAs6YXb"
      }
    },
    {
      "cell_type": "code",
      "source": [
        "#it will show error\n",
        "s=\"Hello sir,\n",
        "I am pramanand Kumar studying python\n",
        "programming\""
      ],
      "metadata": {
        "colab": {
          "base_uri": "https://localhost:8080/",
          "height": 140
        },
        "id": "qY0o96Nj6Uao",
        "outputId": "16c75f0f-fd2c-468e-f18f-7633353f21f8"
      },
      "execution_count": 15,
      "outputs": [
        {
          "output_type": "error",
          "ename": "SyntaxError",
          "evalue": "ignored",
          "traceback": [
            "\u001b[0;36m  File \u001b[0;32m\"<ipython-input-15-4cb06ab20cce>\"\u001b[0;36m, line \u001b[0;32m2\u001b[0m\n\u001b[0;31m    s=\"Hello sir,\u001b[0m\n\u001b[0m      ^\u001b[0m\n\u001b[0;31mSyntaxError\u001b[0m\u001b[0;31m:\u001b[0m unterminated string literal (detected at line 2)\n"
          ]
        }
      ]
    },
    {
      "cell_type": "code",
      "source": [
        "s='''Hello sir,\n",
        "I am pramanand Kumar studying python\n",
        "programming'''\n",
        "print(s,type(s))"
      ],
      "metadata": {
        "colab": {
          "base_uri": "https://localhost:8080/"
        },
        "id": "Ly7i-2pq6twj",
        "outputId": "a178bd2d-d584-4532-d6d2-42688a812abc"
      },
      "execution_count": 17,
      "outputs": [
        {
          "output_type": "stream",
          "name": "stdout",
          "text": [
            "Hello sir,\n",
            "I am pramanand Kumar studying python \n",
            "programming <class 'str'>\n"
          ]
        }
      ]
    },
    {
      "cell_type": "code",
      "source": [
        "s1=\"\"\"Hello Sir/Mam,\n",
        "This is Abhishek from svcet,chittor.\n",
        "currently looking for a job\"\"\"\n",
        "print(s1,type(s1))"
      ],
      "metadata": {
        "colab": {
          "base_uri": "https://localhost:8080/"
        },
        "id": "TDezoz2m60Lz",
        "outputId": "cb9fe272-0acd-438d-d8eb-79a18c631a41"
      },
      "execution_count": 16,
      "outputs": [
        {
          "output_type": "stream",
          "name": "stdout",
          "text": [
            "Hello Sir/Mam,\n",
            "This is Abhishek from svcet,chittor.\n",
            "currently looking for a job <class 'str'>\n"
          ]
        }
      ]
    }
  ]
}