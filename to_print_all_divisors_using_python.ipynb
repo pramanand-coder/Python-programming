{
  "nbformat": 4,
  "nbformat_minor": 0,
  "metadata": {
    "colab": {
      "provenance": [],
      "authorship_tag": "ABX9TyNmeoGUv3WWpRwX/E9AkH2g",
      "include_colab_link": true
    },
    "kernelspec": {
      "name": "python3",
      "display_name": "Python 3"
    },
    "language_info": {
      "name": "python"
    }
  },
  "cells": [
    {
      "cell_type": "markdown",
      "metadata": {
        "id": "view-in-github",
        "colab_type": "text"
      },
      "source": [
        "<a href=\"https://colab.research.google.com/github/pramanand-coder/Python-programming/blob/main/to_print_all_divisors_using_python.ipynb\" target=\"_parent\"><img src=\"https://colab.research.google.com/assets/colab-badge.svg\" alt=\"Open In Colab\"/></a>"
      ]
    },
    {
      "cell_type": "code",
      "execution_count": 1,
      "metadata": {
        "id": "pMTZv5fFCtDK"
      },
      "outputs": [],
      "source": [
        "from re import I\n",
        "from math import *\n",
        "l=[]\n",
        "class Calculate:\n",
        "  def Divisor(self,num):\n",
        "    for i in range(1,int(sqrt(num))+1):\n",
        "      if(num%i==0):\n",
        "        l.append(i)\n",
        "        if(num//i !=i):\n",
        "          l.append(num//i)\n",
        "    l.sort()\n",
        "    for i in l:\n",
        "      print(i)"
      ]
    },
    {
      "cell_type": "code",
      "source": [
        "obj=Calculate()\n",
        "a=int(input(\"Enter the number:\"))\n",
        "obj.Divisor(a)"
      ],
      "metadata": {
        "colab": {
          "base_uri": "https://localhost:8080/"
        },
        "id": "mPF5KfzXDypL",
        "outputId": "f8767048-8ed6-4b5a-981d-fc05cc5c6f54"
      },
      "execution_count": 2,
      "outputs": [
        {
          "output_type": "stream",
          "name": "stdout",
          "text": [
            "Enter the number:32\n",
            "1\n",
            "2\n",
            "4\n",
            "8\n",
            "16\n",
            "32\n"
          ]
        }
      ]
    },
    {
      "cell_type": "code",
      "source": [],
      "metadata": {
        "id": "1dprkY2nIEmV"
      },
      "execution_count": null,
      "outputs": []
    }
  ]
}